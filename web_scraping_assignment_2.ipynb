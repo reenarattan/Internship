{
 "cells": [
  {
   "cell_type": "code",
   "execution_count": 1,
   "id": "aa7f5815",
   "metadata": {},
   "outputs": [],
   "source": [
    "#install all the required libraries\n",
    "import pandas as pd\n",
    "import time\n",
    "import selenium\n",
    "from selenium import webdriver\n",
    "import warnings\n",
    "warnings.filterwarnings(\"ignore\")"
   ]
  },
  {
   "cell_type": "code",
   "execution_count": 2,
   "id": "74896942",
   "metadata": {},
   "outputs": [],
   "source": [
    "#let first connect to the web drivers\n",
    "driver=webdriver.Chrome(r\"C:\\webdriver\\chromedriver.exe\")"
   ]
  },
  {
   "cell_type": "code",
   "execution_count": 3,
   "id": "887ff130",
   "metadata": {},
   "outputs": [],
   "source": [
    "driver=webdriver.Chrome(\"chromedriver.exe\")\n",
    "time.sleep(2)"
   ]
  },
  {
   "cell_type": "markdown",
   "id": "8b9757c7",
   "metadata": {},
   "source": [
    "Q1: Write a python program to scrape data for “Data Analyst” Job position in “Bangalore” location. You\n",
    "have to scrape the job-title, job-location, company_name, experience_required. You have to scrape first 10\n",
    "jobs data"
   ]
  },
  {
   "cell_type": "code",
   "execution_count": 4,
   "id": "d9d15918",
   "metadata": {},
   "outputs": [],
   "source": [
    "#opening up a website in automated chrome window\n",
    "driver.get('https://www.naukri.com/')"
   ]
  },
  {
   "cell_type": "code",
   "execution_count": 5,
   "id": "e04ccb2e",
   "metadata": {},
   "outputs": [],
   "source": [
    "#finding element for job search bar\n",
    "search_field_designation=driver.find_element_by_class_name(\"suggestor-input \") #for job search bar\n",
    "search_field_designation.send_keys(\"Data scientist\")"
   ]
  },
  {
   "cell_type": "code",
   "execution_count": 6,
   "id": "1129a545",
   "metadata": {},
   "outputs": [],
   "source": [
    "#loaction search\n",
    "search_field_location=driver.find_element_by_xpath(\"/html/body/div/div[2]/div[3]/div/div/div[3]/div/div/div/input \") #for job search bar\n",
    "search_field_location.send_keys(\"banglore\")"
   ]
  },
  {
   "cell_type": "code",
   "execution_count": 7,
   "id": "3bbcf9fc",
   "metadata": {},
   "outputs": [],
   "source": [
    "#clicking on search button\n",
    "search_button=driver.find_element_by_xpath(\"/html/body/div/div[2]/div[3]/div/div/div[6]\")\n"
   ]
  },
  {
   "cell_type": "code",
   "execution_count": 8,
   "id": "43578fa0",
   "metadata": {},
   "outputs": [],
   "source": [
    "search_button.click()"
   ]
  },
  {
   "cell_type": "code",
   "execution_count": 9,
   "id": "472e878d",
   "metadata": {},
   "outputs": [],
   "source": [
    "job_titles=[]\n",
    "company_name=[]\n",
    "job_location=[]\n"
   ]
  },
  {
   "cell_type": "code",
   "execution_count": 10,
   "id": "57738a8c",
   "metadata": {},
   "outputs": [],
   "source": [
    "# let extract all the tags having job titles\n",
    "title_tags=driver.find_elements_by_xpath(\"//a[@class='title fw500 ellipsis']\")"
   ]
  },
  {
   "cell_type": "code",
   "execution_count": 11,
   "id": "d0a06535",
   "metadata": {},
   "outputs": [],
   "source": [
    "for i in title_tags:\n",
    "    title=i.text\n",
    "    job_titles.append(title)"
   ]
  },
  {
   "cell_type": "code",
   "execution_count": 12,
   "id": "88d1de3e",
   "metadata": {},
   "outputs": [
    {
     "data": {
      "text/plain": [
       "[<selenium.webdriver.remote.webelement.WebElement (session=\"5f77f9732207ef604c3c978984d0bd77\", element=\"7a3cf021-eb6f-469a-bbe7-6cf1a4f107e1\")>,\n",
       " <selenium.webdriver.remote.webelement.WebElement (session=\"5f77f9732207ef604c3c978984d0bd77\", element=\"3275c693-bdca-483a-9ecc-c644d4f426bc\")>,\n",
       " <selenium.webdriver.remote.webelement.WebElement (session=\"5f77f9732207ef604c3c978984d0bd77\", element=\"ad88547f-105b-4fd3-ad4b-33042945efe4\")>,\n",
       " <selenium.webdriver.remote.webelement.WebElement (session=\"5f77f9732207ef604c3c978984d0bd77\", element=\"673ffa0c-6f31-415d-8066-96d964c63877\")>,\n",
       " <selenium.webdriver.remote.webelement.WebElement (session=\"5f77f9732207ef604c3c978984d0bd77\", element=\"8f457e4b-14e9-4c44-9200-ba39f72e4e3b\")>,\n",
       " <selenium.webdriver.remote.webelement.WebElement (session=\"5f77f9732207ef604c3c978984d0bd77\", element=\"28c20d59-412f-42fe-8bfa-9c6a22634b1e\")>,\n",
       " <selenium.webdriver.remote.webelement.WebElement (session=\"5f77f9732207ef604c3c978984d0bd77\", element=\"7b3c7d50-11e7-44fb-a824-a26b63ec06c8\")>,\n",
       " <selenium.webdriver.remote.webelement.WebElement (session=\"5f77f9732207ef604c3c978984d0bd77\", element=\"b308f0be-69dd-4cae-8f1d-8e78fe74bcb1\")>,\n",
       " <selenium.webdriver.remote.webelement.WebElement (session=\"5f77f9732207ef604c3c978984d0bd77\", element=\"6dc38ef9-678e-4960-bf85-7c1aa1ce4602\")>,\n",
       " <selenium.webdriver.remote.webelement.WebElement (session=\"5f77f9732207ef604c3c978984d0bd77\", element=\"12179181-4f8b-4ddb-b694-da5c60b4e6d2\")>]"
      ]
     },
     "execution_count": 12,
     "metadata": {},
     "output_type": "execute_result"
    }
   ],
   "source": [
    "#scrape job_location\n",
    "location_tags=driver.find_elements_by_xpath(\"//li[@class='fleft grey-text br2 placeHolderLi location']\")\n",
    "location_tags[0:10]"
   ]
  },
  {
   "cell_type": "code",
   "execution_count": 13,
   "id": "8e729dc6",
   "metadata": {},
   "outputs": [
    {
     "data": {
      "text/plain": [
       "['Bangalore/Bengaluru',\n",
       " 'Bangalore/Bengaluru',\n",
       " 'Bangalore/Bengaluru',\n",
       " 'Bengaluru/Bangalore',\n",
       " 'Hyderabad/Secunderabad, Bangalore/Bengaluru, Delhi / NCR',\n",
       " 'Bangalore/Bengaluru',\n",
       " 'Bangalore/Bengaluru',\n",
       " 'Bengaluru/Bangalore',\n",
       " 'Bengaluru/Bangalore',\n",
       " 'Bengaluru/Bangalore']"
      ]
     },
     "execution_count": 13,
     "metadata": {},
     "output_type": "execute_result"
    }
   ],
   "source": [
    "for i in location_tags:\n",
    "    location=i.text\n",
    "    job_location.append(location)\n",
    "job_location[0:10]"
   ]
  },
  {
   "cell_type": "code",
   "execution_count": 14,
   "id": "ffd69051",
   "metadata": {},
   "outputs": [],
   "source": [
    "#scrape company_name\n",
    "company_tags=driver.find_elements_by_xpath(\"//a[@class='subTitle ellipsis fleft']\")"
   ]
  },
  {
   "cell_type": "code",
   "execution_count": 15,
   "id": "daa6e05f",
   "metadata": {},
   "outputs": [
    {
     "data": {
      "text/plain": [
       "['Flipkart',\n",
       " 'Flipkart',\n",
       " 'Fractal Analytics',\n",
       " 'IBM',\n",
       " 'Genpact',\n",
       " 'VISA',\n",
       " 'IBM',\n",
       " 'IBM',\n",
       " 'IBM',\n",
       " 'IBM']"
      ]
     },
     "execution_count": 15,
     "metadata": {},
     "output_type": "execute_result"
    }
   ],
   "source": [
    "for i in company_tags:\n",
    "    company=i.text\n",
    "    company_name.append(company)\n",
    "company_name[0:10]"
   ]
  },
  {
   "cell_type": "code",
   "execution_count": 16,
   "id": "316d7fa0",
   "metadata": {},
   "outputs": [
    {
     "data": {
      "text/html": [
       "<div>\n",
       "<style scoped>\n",
       "    .dataframe tbody tr th:only-of-type {\n",
       "        vertical-align: middle;\n",
       "    }\n",
       "\n",
       "    .dataframe tbody tr th {\n",
       "        vertical-align: top;\n",
       "    }\n",
       "\n",
       "    .dataframe thead th {\n",
       "        text-align: right;\n",
       "    }\n",
       "</style>\n",
       "<table border=\"1\" class=\"dataframe\">\n",
       "  <thead>\n",
       "    <tr style=\"text-align: right;\">\n",
       "      <th></th>\n",
       "      <th>job_titles</th>\n",
       "      <th>job_location</th>\n",
       "      <th>company_name</th>\n",
       "    </tr>\n",
       "  </thead>\n",
       "  <tbody>\n",
       "    <tr>\n",
       "      <th>0</th>\n",
       "      <td>Senior Data Scientist Grade12</td>\n",
       "      <td>Bangalore/Bengaluru</td>\n",
       "      <td>Flipkart</td>\n",
       "    </tr>\n",
       "    <tr>\n",
       "      <th>1</th>\n",
       "      <td>Senior Data Scientist Grade12</td>\n",
       "      <td>Bangalore/Bengaluru</td>\n",
       "      <td>Flipkart</td>\n",
       "    </tr>\n",
       "    <tr>\n",
       "      <th>2</th>\n",
       "      <td>Senior Data Scientist</td>\n",
       "      <td>Bangalore/Bengaluru</td>\n",
       "      <td>Fractal Analytics</td>\n",
       "    </tr>\n",
       "    <tr>\n",
       "      <th>3</th>\n",
       "      <td>Data Scientist: Advanced Analytics</td>\n",
       "      <td>Bengaluru/Bangalore</td>\n",
       "      <td>IBM</td>\n",
       "    </tr>\n",
       "    <tr>\n",
       "      <th>4</th>\n",
       "      <td>Data Scientist</td>\n",
       "      <td>Hyderabad/Secunderabad, Bangalore/Bengaluru, D...</td>\n",
       "      <td>Genpact</td>\n",
       "    </tr>\n",
       "    <tr>\n",
       "      <th>5</th>\n",
       "      <td>Data Scientist</td>\n",
       "      <td>Bangalore/Bengaluru</td>\n",
       "      <td>VISA</td>\n",
       "    </tr>\n",
       "    <tr>\n",
       "      <th>6</th>\n",
       "      <td>Data Scientist: Artificial Intelligence</td>\n",
       "      <td>Bangalore/Bengaluru</td>\n",
       "      <td>IBM</td>\n",
       "    </tr>\n",
       "    <tr>\n",
       "      <th>7</th>\n",
       "      <td>Data Scientist: Artificial Intelligence</td>\n",
       "      <td>Bengaluru/Bangalore</td>\n",
       "      <td>IBM</td>\n",
       "    </tr>\n",
       "    <tr>\n",
       "      <th>8</th>\n",
       "      <td>Data Scientist: Artificial Intelligence</td>\n",
       "      <td>Bengaluru/Bangalore</td>\n",
       "      <td>IBM</td>\n",
       "    </tr>\n",
       "    <tr>\n",
       "      <th>9</th>\n",
       "      <td>Data Scientist: Artificial Intelligence</td>\n",
       "      <td>Bengaluru/Bangalore</td>\n",
       "      <td>IBM</td>\n",
       "    </tr>\n",
       "  </tbody>\n",
       "</table>\n",
       "</div>"
      ],
      "text/plain": [
       "                                job_titles  \\\n",
       "0            Senior Data Scientist Grade12   \n",
       "1            Senior Data Scientist Grade12   \n",
       "2                    Senior Data Scientist   \n",
       "3       Data Scientist: Advanced Analytics   \n",
       "4                           Data Scientist   \n",
       "5                           Data Scientist   \n",
       "6  Data Scientist: Artificial Intelligence   \n",
       "7  Data Scientist: Artificial Intelligence   \n",
       "8  Data Scientist: Artificial Intelligence   \n",
       "9  Data Scientist: Artificial Intelligence   \n",
       "\n",
       "                                        job_location       company_name  \n",
       "0                                Bangalore/Bengaluru           Flipkart  \n",
       "1                                Bangalore/Bengaluru           Flipkart  \n",
       "2                                Bangalore/Bengaluru  Fractal Analytics  \n",
       "3                                Bengaluru/Bangalore                IBM  \n",
       "4  Hyderabad/Secunderabad, Bangalore/Bengaluru, D...            Genpact  \n",
       "5                                Bangalore/Bengaluru               VISA  \n",
       "6                                Bangalore/Bengaluru                IBM  \n",
       "7                                Bengaluru/Bangalore                IBM  \n",
       "8                                Bengaluru/Bangalore                IBM  \n",
       "9                                Bengaluru/Bangalore                IBM  "
      ]
     },
     "execution_count": 16,
     "metadata": {},
     "output_type": "execute_result"
    }
   ],
   "source": [
    "#creating dataframe\n",
    "import pandas as pd\n",
    "job_df=pd.DataFrame({\"job_titles\":job_titles,\"job_location\":job_location,\"company_name\":company_name})\n",
    "final_job_df=job_df[0:10]\n",
    "final_job_df"
   ]
  },
  {
   "cell_type": "markdown",
   "id": "854d6b48",
   "metadata": {},
   "source": [
    "Q2: Write a python program to scrape data for “Data Scientist” Job position in “Bangalore” location. You\n",
    "have to scrape the job-title, job-location, company_name. You have to scrape first 10 jobs data."
   ]
  },
  {
   "cell_type": "code",
   "execution_count": 17,
   "id": "623f3797",
   "metadata": {},
   "outputs": [],
   "source": [
    "#. get the webpage https://www.naukri.com\n",
    "#opening up a website in automated chrome window\n",
    "driver.get('https://www.naukri.com/')\n",
    "\n"
   ]
  },
  {
   "cell_type": "code",
   "execution_count": 18,
   "id": "91485706",
   "metadata": {},
   "outputs": [],
   "source": [
    "#Enter “Data Analyst” in “Skill, Designations, Companies” field and enter “Bangalore” in “enter the location” field\n",
    "##finding element for job search bar:data analyst\n",
    "search_field_designation=driver.find_element_by_class_name(\"suggestor-input \") #for job search bar\n",
    "search_field_designation.send_keys(\"Data Analyst\")"
   ]
  },
  {
   "cell_type": "code",
   "execution_count": 19,
   "id": "80aee4ab",
   "metadata": {},
   "outputs": [],
   "source": [
    "#. clicking the search button\n",
    "search_button=driver.find_element_by_xpath(\"/html/body/div/div[2]/div[3]/div/div/div[6]\")\n",
    "search_button.click()\n"
   ]
  },
  {
   "cell_type": "code",
   "execution_count": 20,
   "id": "0a0abd94",
   "metadata": {},
   "outputs": [],
   "source": [
    "# scraping the data for the first 10 jobs results you get\n",
    "job_titles=[]\n",
    "job_location=[]\n",
    "company_name=[]\n",
    "experience_require=[]\n"
   ]
  },
  {
   "cell_type": "code",
   "execution_count": 21,
   "id": "bea65244",
   "metadata": {},
   "outputs": [],
   "source": [
    "#scraping job-title\n",
    "# let extract all the tags having job titles\n",
    "title_tags=driver.find_elements_by_xpath(\"//a[@class='title fw500 ellipsis']\")\n",
    "                                         \n"
   ]
  },
  {
   "cell_type": "code",
   "execution_count": 22,
   "id": "2e2e2a45",
   "metadata": {},
   "outputs": [],
   "source": [
    "for i in title_tags:\n",
    "    title=i.text\n",
    "    job_titles.append(title)"
   ]
  },
  {
   "cell_type": "code",
   "execution_count": 23,
   "id": "cc49e548",
   "metadata": {},
   "outputs": [],
   "source": [
    "#scraping job lacation\n",
    "location_tags=driver.find_elements_by_xpath(\"//li[@class='fleft grey-text br2 placeHolderLi location']\")"
   ]
  },
  {
   "cell_type": "code",
   "execution_count": 24,
   "id": "ee8b6004",
   "metadata": {},
   "outputs": [],
   "source": [
    "for i in location_tags:\n",
    "    location=i.text\n",
    "    job_location.append(location)"
   ]
  },
  {
   "cell_type": "code",
   "execution_count": 25,
   "id": "b6272890",
   "metadata": {},
   "outputs": [],
   "source": [
    "#scraping company_name\n",
    "company_tags=driver.find_elements_by_xpath(\"//a[@class='subTitle ellipsis fleft']\")"
   ]
  },
  {
   "cell_type": "code",
   "execution_count": 26,
   "id": "e2c1c9ce",
   "metadata": {},
   "outputs": [],
   "source": [
    "for i in company_tags:\n",
    "    company=i.text\n",
    "    company_name.append(company)"
   ]
  },
  {
   "cell_type": "code",
   "execution_count": 27,
   "id": "abe89669",
   "metadata": {},
   "outputs": [],
   "source": [
    "#scraping experiance requied\n",
    "experiance_tags=driver.find_elements_by_xpath(\"//li[@class='fleft grey-text br2 placeHolderLi experience']/span\")"
   ]
  },
  {
   "cell_type": "code",
   "execution_count": 28,
   "id": "c31f7700",
   "metadata": {},
   "outputs": [],
   "source": [
    "for i in experiance_tags:\n",
    "    experiance=i.text\n",
    "    experience_require.append( experiance)"
   ]
  },
  {
   "cell_type": "code",
   "execution_count": 29,
   "id": "82b58fa7",
   "metadata": {},
   "outputs": [
    {
     "name": "stdout",
     "output_type": "stream",
     "text": [
      "20 20 20 20\n"
     ]
    }
   ],
   "source": [
    "print(len(job_titles),len(job_location),len(company_name),len(experience_require))"
   ]
  },
  {
   "cell_type": "code",
   "execution_count": 30,
   "id": "e55e3b8c",
   "metadata": {},
   "outputs": [],
   "source": [
    "import pandas as pd\n",
    "#creating datafame\n",
    "job_df=pd.DataFrame({\"job_titles\":job_titles,\"job_location\":job_location,\"company_name\":company_name,\"experience_require\":experience_require})"
   ]
  },
  {
   "cell_type": "code",
   "execution_count": 31,
   "id": "83b97c71",
   "metadata": {},
   "outputs": [],
   "source": [
    "job_list=job_df[0:10]"
   ]
  },
  {
   "cell_type": "code",
   "execution_count": 32,
   "id": "4b2d490f",
   "metadata": {},
   "outputs": [
    {
     "data": {
      "text/html": [
       "<div>\n",
       "<style scoped>\n",
       "    .dataframe tbody tr th:only-of-type {\n",
       "        vertical-align: middle;\n",
       "    }\n",
       "\n",
       "    .dataframe tbody tr th {\n",
       "        vertical-align: top;\n",
       "    }\n",
       "\n",
       "    .dataframe thead th {\n",
       "        text-align: right;\n",
       "    }\n",
       "</style>\n",
       "<table border=\"1\" class=\"dataframe\">\n",
       "  <thead>\n",
       "    <tr style=\"text-align: right;\">\n",
       "      <th></th>\n",
       "      <th>job_titles</th>\n",
       "      <th>job_location</th>\n",
       "      <th>company_name</th>\n",
       "      <th>experience_require</th>\n",
       "    </tr>\n",
       "  </thead>\n",
       "  <tbody>\n",
       "    <tr>\n",
       "      <th>0</th>\n",
       "      <td>Intern - Business Analyst / Data Analyst</td>\n",
       "      <td>Pune</td>\n",
       "      <td>Faurecia</td>\n",
       "      <td>0-1 Yrs</td>\n",
       "    </tr>\n",
       "    <tr>\n",
       "      <th>1</th>\n",
       "      <td>Data Analyst/Data Analyst</td>\n",
       "      <td>Pune</td>\n",
       "      <td>Bajaj Finserv</td>\n",
       "      <td>0-3 Yrs</td>\n",
       "    </tr>\n",
       "    <tr>\n",
       "      <th>2</th>\n",
       "      <td>Data Analyst- customer facing</td>\n",
       "      <td>Bangalore/Bengaluru</td>\n",
       "      <td>Synamedia</td>\n",
       "      <td>0-3 Yrs</td>\n",
       "    </tr>\n",
       "    <tr>\n",
       "      <th>3</th>\n",
       "      <td>Fresher Job - Junior MIS Executive / Data Analyst</td>\n",
       "      <td>Kochi/Cochin</td>\n",
       "      <td>Z H Consultancy Services Private Ltd.</td>\n",
       "      <td>0-1 Yrs</td>\n",
       "    </tr>\n",
       "    <tr>\n",
       "      <th>4</th>\n",
       "      <td>Opportunity For Fresher | UK based IT company ...</td>\n",
       "      <td>Chennai</td>\n",
       "      <td>FE fundinfo</td>\n",
       "      <td>0-1 Yrs</td>\n",
       "    </tr>\n",
       "    <tr>\n",
       "      <th>5</th>\n",
       "      <td>Senior Data Analyst</td>\n",
       "      <td>Bangalore/Bengaluru</td>\n",
       "      <td>Flipkart</td>\n",
       "      <td>3-7 Yrs</td>\n",
       "    </tr>\n",
       "    <tr>\n",
       "      <th>6</th>\n",
       "      <td>Senior Data Analyst</td>\n",
       "      <td>Bangalore/Bengaluru</td>\n",
       "      <td>Thomson Reuters</td>\n",
       "      <td>2-4 Yrs</td>\n",
       "    </tr>\n",
       "    <tr>\n",
       "      <th>7</th>\n",
       "      <td>Business and Data Analyst</td>\n",
       "      <td>Bangalore/Bengaluru\\n(WFH during Covid)</td>\n",
       "      <td>CAREERDOST ENTERPRISE</td>\n",
       "      <td>0-5 Yrs</td>\n",
       "    </tr>\n",
       "    <tr>\n",
       "      <th>8</th>\n",
       "      <td>Senior Business &amp; Data Analyst</td>\n",
       "      <td>Pune</td>\n",
       "      <td>Deutsche Bank</td>\n",
       "      <td>2-5 Yrs</td>\n",
       "    </tr>\n",
       "    <tr>\n",
       "      <th>9</th>\n",
       "      <td>Data Analyst/ Financial Analyst</td>\n",
       "      <td>Mumbai (All Areas)</td>\n",
       "      <td>Datamatics Global services Ltd.</td>\n",
       "      <td>0-1 Yrs</td>\n",
       "    </tr>\n",
       "  </tbody>\n",
       "</table>\n",
       "</div>"
      ],
      "text/plain": [
       "                                          job_titles  \\\n",
       "0           Intern - Business Analyst / Data Analyst   \n",
       "1                          Data Analyst/Data Analyst   \n",
       "2                      Data Analyst- customer facing   \n",
       "3  Fresher Job - Junior MIS Executive / Data Analyst   \n",
       "4  Opportunity For Fresher | UK based IT company ...   \n",
       "5                                Senior Data Analyst   \n",
       "6                                Senior Data Analyst   \n",
       "7                          Business and Data Analyst   \n",
       "8                     Senior Business & Data Analyst   \n",
       "9                    Data Analyst/ Financial Analyst   \n",
       "\n",
       "                              job_location  \\\n",
       "0                                     Pune   \n",
       "1                                     Pune   \n",
       "2                      Bangalore/Bengaluru   \n",
       "3                             Kochi/Cochin   \n",
       "4                                  Chennai   \n",
       "5                      Bangalore/Bengaluru   \n",
       "6                      Bangalore/Bengaluru   \n",
       "7  Bangalore/Bengaluru\\n(WFH during Covid)   \n",
       "8                                     Pune   \n",
       "9                       Mumbai (All Areas)   \n",
       "\n",
       "                            company_name experience_require  \n",
       "0                               Faurecia            0-1 Yrs  \n",
       "1                          Bajaj Finserv            0-3 Yrs  \n",
       "2                              Synamedia            0-3 Yrs  \n",
       "3  Z H Consultancy Services Private Ltd.            0-1 Yrs  \n",
       "4                            FE fundinfo            0-1 Yrs  \n",
       "5                               Flipkart            3-7 Yrs  \n",
       "6                        Thomson Reuters            2-4 Yrs  \n",
       "7                  CAREERDOST ENTERPRISE            0-5 Yrs  \n",
       "8                          Deutsche Bank            2-5 Yrs  \n",
       "9        Datamatics Global services Ltd.            0-1 Yrs  "
      ]
     },
     "execution_count": 32,
     "metadata": {},
     "output_type": "execute_result"
    }
   ],
   "source": [
    "job_list"
   ]
  },
  {
   "cell_type": "code",
   "execution_count": null,
   "id": "25cbb377",
   "metadata": {},
   "outputs": [],
   "source": []
  },
  {
   "cell_type": "markdown",
   "id": "c49656f0",
   "metadata": {},
   "source": [
    "Q3:You have to use the location and salary filter.\n",
    "You have to scrape data for “Data Scientist” designation for first 10 job results.\n",
    "You have to scrape the job-title, job-location, company name, experience required.\n",
    "The location filter to be used is “Delhi/NCR”. The salary filter to be used is “3-6” lakhs\n"
   ]
  },
  {
   "cell_type": "code",
   "execution_count": 33,
   "id": "0eb59c93",
   "metadata": {},
   "outputs": [],
   "source": [
    "#opening up a website in automated chrome window\n",
    "driver.get('https://www.naukri.com/')"
   ]
  },
  {
   "cell_type": "code",
   "execution_count": 34,
   "id": "749d2fbe",
   "metadata": {},
   "outputs": [],
   "source": [
    "#finding element for job search bar\n",
    "search_field_designation=driver.find_element_by_class_name(\"suggestor-input \") #for job search bar\n",
    "search_field_designation.send_keys(\"Data scientist\")"
   ]
  },
  {
   "cell_type": "code",
   "execution_count": 35,
   "id": "e421749d",
   "metadata": {},
   "outputs": [],
   "source": [
    "search_button=driver.find_element_by_xpath(\"/html/body/div/div[2]/div[3]/div/div/div[6]\")\n",
    "search_button.click()"
   ]
  },
  {
   "cell_type": "code",
   "execution_count": 36,
   "id": "5c608080",
   "metadata": {},
   "outputs": [],
   "source": [
    "#appling loc and salary filters\n",
    "loc_filter=driver.find_elements_by_xpath('//div[@class=\"mt-8 chckBoxCont\"]//span')"
   ]
  },
  {
   "cell_type": "code",
   "execution_count": 37,
   "id": "c4cfe25b",
   "metadata": {},
   "outputs": [],
   "source": [
    "for i in loc_filter :\n",
    "    if (i.text=='Delhi / NCR'):\n",
    "        i.click()\n",
    "        break"
   ]
  },
  {
   "cell_type": "code",
   "execution_count": 38,
   "id": "c2472441",
   "metadata": {},
   "outputs": [],
   "source": [
    "#salary filter\n",
    "sal_filter=driver.find_elements_by_xpath(\"//div[@class='mt-8 chckBoxCont']//span\")\n",
    "for i in sal_filter:\n",
    "    if(i.text=='3-6 Lakhs'):\n",
    "        i.click()\n",
    "        break"
   ]
  },
  {
   "cell_type": "code",
   "execution_count": 39,
   "id": "9d8330a6",
   "metadata": {},
   "outputs": [],
   "source": [
    "#scrape the data for the first 10 jobs results \n",
    "job_title=[]\n",
    "job_location=[]\n",
    "company_name=[]\n",
    "experience_required=[]"
   ]
  },
  {
   "cell_type": "code",
   "execution_count": 40,
   "id": "f4a88b51",
   "metadata": {},
   "outputs": [],
   "source": [
    "#scrape jobs\n",
    "job_tags=driver.find_elements_by_xpath('//a[@class=\"title fw500 ellipsis\"]')"
   ]
  },
  {
   "cell_type": "code",
   "execution_count": 41,
   "id": "1975d4b3",
   "metadata": {},
   "outputs": [],
   "source": [
    "for i in job_tags:\n",
    "    job=i.text\n",
    "    job_title.append(job)"
   ]
  },
  {
   "cell_type": "code",
   "execution_count": 42,
   "id": "e5a943fd",
   "metadata": {},
   "outputs": [],
   "source": [
    "location_tags=driver.find_elements_by_xpath('//li[@class=\"fleft grey-text br2 placeHolderLi location\"]')"
   ]
  },
  {
   "cell_type": "code",
   "execution_count": 43,
   "id": "1083d9da",
   "metadata": {},
   "outputs": [],
   "source": [
    "for i in location_tags:\n",
    "    location=i.text\n",
    "    job_location.append(location)"
   ]
  },
  {
   "cell_type": "code",
   "execution_count": 44,
   "id": "a736bd51",
   "metadata": {},
   "outputs": [],
   "source": [
    "#scraping company_name\n",
    "company_tags=driver.find_elements_by_xpath(\"//a[@class='subTitle ellipsis fleft']\")\n"
   ]
  },
  {
   "cell_type": "code",
   "execution_count": 45,
   "id": "7106cfba",
   "metadata": {},
   "outputs": [],
   "source": [
    "for i in company_tags:\n",
    "    company=i.text\n",
    "    company_name.append(company)"
   ]
  },
  {
   "cell_type": "code",
   "execution_count": 46,
   "id": "389fcf5c",
   "metadata": {},
   "outputs": [],
   "source": [
    "#scraping experience_required\n",
    "exp_tags=driver.find_elements_by_xpath(\"//a[@class='subTitle ellipsis fleft']\")"
   ]
  },
  {
   "cell_type": "code",
   "execution_count": 47,
   "id": "8e4b9ccf",
   "metadata": {},
   "outputs": [],
   "source": [
    "for i in exp_tags:\n",
    "    exp=i.text\n",
    "    experience_required.append(exp)\n",
    "    "
   ]
  },
  {
   "cell_type": "code",
   "execution_count": 48,
   "id": "5824ff38",
   "metadata": {},
   "outputs": [],
   "source": [
    "import pandas as pd\n",
    "#creatig dataframe\n",
    "job_df=pd.DataFrame({\"job_title\":job_title,\"job_location\":job_location,\"company_name\":company_name,\"experience_required\":experience_required})"
   ]
  },
  {
   "cell_type": "code",
   "execution_count": 49,
   "id": "a38c683b",
   "metadata": {},
   "outputs": [],
   "source": [
    "job_list_df=job_df[0:10]"
   ]
  },
  {
   "cell_type": "code",
   "execution_count": 50,
   "id": "d652eecc",
   "metadata": {},
   "outputs": [
    {
     "data": {
      "text/html": [
       "<div>\n",
       "<style scoped>\n",
       "    .dataframe tbody tr th:only-of-type {\n",
       "        vertical-align: middle;\n",
       "    }\n",
       "\n",
       "    .dataframe tbody tr th {\n",
       "        vertical-align: top;\n",
       "    }\n",
       "\n",
       "    .dataframe thead th {\n",
       "        text-align: right;\n",
       "    }\n",
       "</style>\n",
       "<table border=\"1\" class=\"dataframe\">\n",
       "  <thead>\n",
       "    <tr style=\"text-align: right;\">\n",
       "      <th></th>\n",
       "      <th>job_title</th>\n",
       "      <th>job_location</th>\n",
       "      <th>company_name</th>\n",
       "      <th>experience_required</th>\n",
       "    </tr>\n",
       "  </thead>\n",
       "  <tbody>\n",
       "    <tr>\n",
       "      <th>0</th>\n",
       "      <td>Data Scientist</td>\n",
       "      <td>Noida, Bangalore/Bengaluru</td>\n",
       "      <td>Ashkom Media India Private Limited</td>\n",
       "      <td>Ashkom Media India Private Limited</td>\n",
       "    </tr>\n",
       "    <tr>\n",
       "      <th>1</th>\n",
       "      <td>Junior Data Scientist</td>\n",
       "      <td>Noida</td>\n",
       "      <td>EASY DATA ANALYTICS TECHNOLOGY PRIVATE LIMITED</td>\n",
       "      <td>EASY DATA ANALYTICS TECHNOLOGY PRIVATE LIMITED</td>\n",
       "    </tr>\n",
       "    <tr>\n",
       "      <th>2</th>\n",
       "      <td>Associate Data Scientist</td>\n",
       "      <td>Gurgaon/Gurugram</td>\n",
       "      <td>Optum</td>\n",
       "      <td>Optum</td>\n",
       "    </tr>\n",
       "    <tr>\n",
       "      <th>3</th>\n",
       "      <td>Associate Scientist - Data Engineering</td>\n",
       "      <td>Gurgaon/Gurugram</td>\n",
       "      <td>AXA Technology Services India Pvt. Ltd</td>\n",
       "      <td>AXA Technology Services India Pvt. Ltd</td>\n",
       "    </tr>\n",
       "    <tr>\n",
       "      <th>4</th>\n",
       "      <td>Data Scientist || Software Company || Immediat...</td>\n",
       "      <td>Gurgaon/Gurugram, Bangalore/Bengaluru</td>\n",
       "      <td>Skyleaf Consultants</td>\n",
       "      <td>Skyleaf Consultants</td>\n",
       "    </tr>\n",
       "    <tr>\n",
       "      <th>5</th>\n",
       "      <td>Hiring For Data Analyst and Data Scientist For...</td>\n",
       "      <td>Noida, Gurgaon/Gurugram, Delhi / NCR</td>\n",
       "      <td>Shadow Placements</td>\n",
       "      <td>Shadow Placements</td>\n",
       "    </tr>\n",
       "    <tr>\n",
       "      <th>6</th>\n",
       "      <td>Data Scientist (freelance)</td>\n",
       "      <td>New Delhi, Delhi</td>\n",
       "      <td>2Coms</td>\n",
       "      <td>2Coms</td>\n",
       "    </tr>\n",
       "    <tr>\n",
       "      <th>7</th>\n",
       "      <td>Data Scientist/ Machine Learning, 2022 Passout...</td>\n",
       "      <td>Hyderabad/Secunderabad, Pune, Chennai, Delhi /...</td>\n",
       "      <td>Creative Hands HR Consultancy</td>\n",
       "      <td>Creative Hands HR Consultancy</td>\n",
       "    </tr>\n",
       "    <tr>\n",
       "      <th>8</th>\n",
       "      <td>Data Scientists</td>\n",
       "      <td>Gurgaon/Gurugram</td>\n",
       "      <td>Nibha Infotech Private Limited</td>\n",
       "      <td>Nibha Infotech Private Limited</td>\n",
       "    </tr>\n",
       "    <tr>\n",
       "      <th>9</th>\n",
       "      <td>Data Scientist</td>\n",
       "      <td>Gurgaon, Bengaluru</td>\n",
       "      <td>BlackBuck</td>\n",
       "      <td>BlackBuck</td>\n",
       "    </tr>\n",
       "  </tbody>\n",
       "</table>\n",
       "</div>"
      ],
      "text/plain": [
       "                                           job_title  \\\n",
       "0                                     Data Scientist   \n",
       "1                              Junior Data Scientist   \n",
       "2                           Associate Data Scientist   \n",
       "3             Associate Scientist - Data Engineering   \n",
       "4  Data Scientist || Software Company || Immediat...   \n",
       "5  Hiring For Data Analyst and Data Scientist For...   \n",
       "6                         Data Scientist (freelance)   \n",
       "7  Data Scientist/ Machine Learning, 2022 Passout...   \n",
       "8                                    Data Scientists   \n",
       "9                                     Data Scientist   \n",
       "\n",
       "                                        job_location  \\\n",
       "0                         Noida, Bangalore/Bengaluru   \n",
       "1                                              Noida   \n",
       "2                                   Gurgaon/Gurugram   \n",
       "3                                   Gurgaon/Gurugram   \n",
       "4              Gurgaon/Gurugram, Bangalore/Bengaluru   \n",
       "5               Noida, Gurgaon/Gurugram, Delhi / NCR   \n",
       "6                                   New Delhi, Delhi   \n",
       "7  Hyderabad/Secunderabad, Pune, Chennai, Delhi /...   \n",
       "8                                   Gurgaon/Gurugram   \n",
       "9                                 Gurgaon, Bengaluru   \n",
       "\n",
       "                                     company_name  \\\n",
       "0              Ashkom Media India Private Limited   \n",
       "1  EASY DATA ANALYTICS TECHNOLOGY PRIVATE LIMITED   \n",
       "2                                           Optum   \n",
       "3          AXA Technology Services India Pvt. Ltd   \n",
       "4                             Skyleaf Consultants   \n",
       "5                               Shadow Placements   \n",
       "6                                           2Coms   \n",
       "7                   Creative Hands HR Consultancy   \n",
       "8                  Nibha Infotech Private Limited   \n",
       "9                                       BlackBuck   \n",
       "\n",
       "                              experience_required  \n",
       "0              Ashkom Media India Private Limited  \n",
       "1  EASY DATA ANALYTICS TECHNOLOGY PRIVATE LIMITED  \n",
       "2                                           Optum  \n",
       "3          AXA Technology Services India Pvt. Ltd  \n",
       "4                             Skyleaf Consultants  \n",
       "5                               Shadow Placements  \n",
       "6                                           2Coms  \n",
       "7                   Creative Hands HR Consultancy  \n",
       "8                  Nibha Infotech Private Limited  \n",
       "9                                       BlackBuck  "
      ]
     },
     "execution_count": 50,
     "metadata": {},
     "output_type": "execute_result"
    }
   ],
   "source": [
    "job_list_df"
   ]
  },
  {
   "cell_type": "markdown",
   "id": "cfa87820",
   "metadata": {},
   "source": [
    "Q4: Scrape data of first 100 sunglasses listings on flipkart.com. You have to scrape four attributes:\n",
    "1. Brand\n",
    "2. Product Description\n",
    "3. Price"
   ]
  },
  {
   "cell_type": "code",
   "execution_count": 54,
   "id": "3ee5f232",
   "metadata": {},
   "outputs": [],
   "source": [
    "#Go to Flipkart webpage by url : https://www.flipkart.com/\n",
    "\n",
    "#opening up a website in automated chrome window\n",
    "driver.get('https://www.flipkart.com/')"
   ]
  },
  {
   "cell_type": "code",
   "execution_count": 55,
   "id": "3cb35909",
   "metadata": {},
   "outputs": [],
   "source": [
    "#logging into flipkart and providing necessary information\n",
    "#email_btn=driver.find_element_by_xpath(\"//input[@class='_2IX_2- VJZDxU']\")"
   ]
  },
  {
   "cell_type": "code",
   "execution_count": 56,
   "id": "7d99aa76",
   "metadata": {},
   "outputs": [],
   "source": [
    "#email_btn=driver.find_element_by_xpath(\"//input[@class='_2IX_2- VJZDxU']\")"
   ]
  },
  {
   "cell_type": "code",
   "execution_count": 57,
   "id": "cc8e4db7",
   "metadata": {},
   "outputs": [],
   "source": [
    "#email_btn.send_keys('')"
   ]
  },
  {
   "cell_type": "code",
   "execution_count": 58,
   "id": "d74ff5b8",
   "metadata": {},
   "outputs": [],
   "source": [
    "#password_btn=driver.find_element_by_xpath(\"//input[@class='_2IX_2- _3mctLh VJZDxU']\")"
   ]
  },
  {
   "cell_type": "code",
   "execution_count": 59,
   "id": "e88d40dc",
   "metadata": {},
   "outputs": [],
   "source": [
    "#password_btn.send_keys(\"*****\")"
   ]
  },
  {
   "cell_type": "code",
   "execution_count": 60,
   "id": "586622b5",
   "metadata": {},
   "outputs": [],
   "source": [
    "#login_btn=driver.find_element_by_xpath(\"//button[@class='_2KpZ6l _2HKlqd _3AWRsL']\")\n",
    "#login_btn.click()"
   ]
  },
  {
   "cell_type": "code",
   "execution_count": 61,
   "id": "90ec7a8b",
   "metadata": {},
   "outputs": [],
   "source": [
    "#Enter “sunglasses” in the search\n",
    "search_field_designation=driver.find_element_by_xpath('/html/body/div/div/div[1]/div[1]/div[2]/div[2]/form/div/div/input') \n",
    "search_field_designation.send_keys(\"sunglasses\")"
   ]
  },
  {
   "cell_type": "code",
   "execution_count": 63,
   "id": "3d7164ab",
   "metadata": {},
   "outputs": [],
   "source": [
    "#. clicking the search button\n",
    "search_button=driver.find_element_by_xpath(\"/html/body/div/div/div[1]/div[1]/div[2]/div[2]/form/div/button\")\n",
    "search_button.click()\n"
   ]
  },
  {
   "cell_type": "code",
   "execution_count": 64,
   "id": "e8a3cd1e",
   "metadata": {},
   "outputs": [],
   "source": [
    "#scrape brand,product_description and price\n",
    "product_brand=[]\n",
    "Product_description=[]\n",
    "price=[]\n",
    "off=[]\n",
    "length=len(product_brand)"
   ]
  },
  {
   "cell_type": "code",
   "execution_count": 65,
   "id": "d4b6798e",
   "metadata": {},
   "outputs": [],
   "source": [
    " for i in range(0,3):\n",
    "        brand_tags=driver.find_elements_by_xpath(\"//div[@class='_2WkVRV']\")\n",
    "        for i in brand_tags:\n",
    "            brand=i.text\n",
    "            product_brand.append(brand)\n",
    "        next_button=driver.find_element_by_xpath(\"/html/body/div/div/div[3]/div[1]/div[2]/div[12]/div/div/nav/a[11]\")\n",
    "        next_button.click()\n",
    "        time.sleep(2)\n",
    "                  "
   ]
  },
  {
   "cell_type": "code",
   "execution_count": 66,
   "id": "8b7c0b18",
   "metadata": {},
   "outputs": [
    {
     "data": {
      "text/plain": [
       "120"
      ]
     },
     "execution_count": 66,
     "metadata": {},
     "output_type": "execute_result"
    }
   ],
   "source": [
    "for i in range(0,3):\n",
    "        description_tags=driver.find_elements_by_xpath(\"//a[@class='IRpwTa']\")\n",
    "        for i in description_tags:\n",
    "            description=i.text\n",
    "            Product_description.append(description)\n",
    "len(Product_description)\n"
   ]
  },
  {
   "cell_type": "code",
   "execution_count": 67,
   "id": "ecdc3f0a",
   "metadata": {},
   "outputs": [],
   "source": [
    "for i in range(0,3):\n",
    "        price_tags=driver.find_elements_by_xpath('//div[@class=\"_30jeq3\"]')\n",
    "        for i in price_tags:\n",
    "            product_price=i.text\n",
    "            price.append( product_price)\n",
    "        next_button=driver.find_element_by_xpath(\"/html/body/div/div/div[3]/div[1]/div[2]/div[12]/div/div/nav/a[11]\")\n",
    "        next_button.click()\n",
    "        time.sleep(2)\n",
    "                  \n",
    "       "
   ]
  },
  {
   "cell_type": "code",
   "execution_count": 68,
   "id": "aa1f0531",
   "metadata": {},
   "outputs": [
    {
     "data": {
      "text/plain": [
       "120"
      ]
     },
     "execution_count": 68,
     "metadata": {},
     "output_type": "execute_result"
    }
   ],
   "source": [
    "len(price)"
   ]
  },
  {
   "cell_type": "code",
   "execution_count": 69,
   "id": "95df1214",
   "metadata": {},
   "outputs": [],
   "source": [
    "#scrape offer\n",
    "for i in range(0,3):\n",
    "        off_tags=driver.find_elements_by_xpath('//div[@class=\"_3Ay6Sb\"]')\n",
    "        for i in off_tags:\n",
    "            product_off=i.text\n",
    "            off.append(product_off)\n",
    "        next_button=driver.find_element_by_xpath(\"/html/body/div/div/div[3]/div[1]/div[2]/div[12]/div/div/nav/a[11]\")\n",
    "        next_button.click()\n",
    "        time.sleep(2)\n",
    "    "
   ]
  },
  {
   "cell_type": "code",
   "execution_count": 70,
   "id": "3f0d7dc0",
   "metadata": {},
   "outputs": [
    {
     "data": {
      "text/plain": [
       "120"
      ]
     },
     "execution_count": 70,
     "metadata": {},
     "output_type": "execute_result"
    }
   ],
   "source": [
    "len(off)"
   ]
  },
  {
   "cell_type": "code",
   "execution_count": 71,
   "id": "46cad513",
   "metadata": {},
   "outputs": [],
   "source": [
    "import pandas as pd\n",
    "sunglasses_df=pd.DataFrame({\"product_brand\":product_brand,\"Product_description\":Product_description,\"price\":price,\"offer\":off})\n"
   ]
  },
  {
   "cell_type": "code",
   "execution_count": 72,
   "id": "55b19a5c",
   "metadata": {},
   "outputs": [
    {
     "data": {
      "text/html": [
       "<div>\n",
       "<style scoped>\n",
       "    .dataframe tbody tr th:only-of-type {\n",
       "        vertical-align: middle;\n",
       "    }\n",
       "\n",
       "    .dataframe tbody tr th {\n",
       "        vertical-align: top;\n",
       "    }\n",
       "\n",
       "    .dataframe thead th {\n",
       "        text-align: right;\n",
       "    }\n",
       "</style>\n",
       "<table border=\"1\" class=\"dataframe\">\n",
       "  <thead>\n",
       "    <tr style=\"text-align: right;\">\n",
       "      <th></th>\n",
       "      <th>product_brand</th>\n",
       "      <th>Product_description</th>\n",
       "      <th>price</th>\n",
       "      <th>offer</th>\n",
       "    </tr>\n",
       "  </thead>\n",
       "  <tbody>\n",
       "    <tr>\n",
       "      <th>0</th>\n",
       "      <td>Singco India</td>\n",
       "      <td>UV Protection Oval Sunglasses (55)</td>\n",
       "      <td>₹8,333</td>\n",
       "      <td>77% off</td>\n",
       "    </tr>\n",
       "    <tr>\n",
       "      <th>1</th>\n",
       "      <td>ROZZETTA CRAFT</td>\n",
       "      <td>UV Protection Rectangular, Retro Square Sungla...</td>\n",
       "      <td>₹499</td>\n",
       "      <td>78% off</td>\n",
       "    </tr>\n",
       "    <tr>\n",
       "      <th>2</th>\n",
       "      <td>Fastrack</td>\n",
       "      <td>Mirrored Aviator Sunglasses (55)</td>\n",
       "      <td>₹399</td>\n",
       "      <td>60% off</td>\n",
       "    </tr>\n",
       "    <tr>\n",
       "      <th>3</th>\n",
       "      <td>SUNBEE</td>\n",
       "      <td>UV Protection, Gradient Cat-eye Sunglasses (58)</td>\n",
       "      <td>₹498</td>\n",
       "      <td>35% off</td>\n",
       "    </tr>\n",
       "    <tr>\n",
       "      <th>4</th>\n",
       "      <td>Fastrack</td>\n",
       "      <td>UV Protection, Polarized, Mirrored Retro Squar...</td>\n",
       "      <td>₹195</td>\n",
       "      <td>64% off</td>\n",
       "    </tr>\n",
       "    <tr>\n",
       "      <th>...</th>\n",
       "      <td>...</td>\n",
       "      <td>...</td>\n",
       "      <td>...</td>\n",
       "      <td>...</td>\n",
       "    </tr>\n",
       "    <tr>\n",
       "      <th>94</th>\n",
       "      <td>New Specs</td>\n",
       "      <td>Mirrored Round Sunglasses (53)</td>\n",
       "      <td>₹269</td>\n",
       "      <td>82% off</td>\n",
       "    </tr>\n",
       "    <tr>\n",
       "      <th>95</th>\n",
       "      <td>VINCENT CHASE</td>\n",
       "      <td>UV Protection Aviator Sunglasses (62)</td>\n",
       "      <td>₹269</td>\n",
       "      <td>82% off</td>\n",
       "    </tr>\n",
       "    <tr>\n",
       "      <th>96</th>\n",
       "      <td>Ray-Ban</td>\n",
       "      <td>UV Protection Aviator Sunglasses (57)</td>\n",
       "      <td>₹699</td>\n",
       "      <td>65% off</td>\n",
       "    </tr>\n",
       "    <tr>\n",
       "      <th>97</th>\n",
       "      <td>VINCENT CHASE</td>\n",
       "      <td>Others Spectacle Sunglasses (56)</td>\n",
       "      <td>₹219</td>\n",
       "      <td>74% off</td>\n",
       "    </tr>\n",
       "    <tr>\n",
       "      <th>98</th>\n",
       "      <td>AISLIN</td>\n",
       "      <td>UV Protection Retro Square Sunglasses (52)</td>\n",
       "      <td>₹9,799</td>\n",
       "      <td>10% off</td>\n",
       "    </tr>\n",
       "  </tbody>\n",
       "</table>\n",
       "<p>99 rows × 4 columns</p>\n",
       "</div>"
      ],
      "text/plain": [
       "     product_brand                                Product_description   price  \\\n",
       "0     Singco India                 UV Protection Oval Sunglasses (55)  ₹8,333   \n",
       "1   ROZZETTA CRAFT  UV Protection Rectangular, Retro Square Sungla...    ₹499   \n",
       "2         Fastrack                   Mirrored Aviator Sunglasses (55)    ₹399   \n",
       "3           SUNBEE    UV Protection, Gradient Cat-eye Sunglasses (58)    ₹498   \n",
       "4         Fastrack  UV Protection, Polarized, Mirrored Retro Squar...    ₹195   \n",
       "..             ...                                                ...     ...   \n",
       "94       New Specs                     Mirrored Round Sunglasses (53)    ₹269   \n",
       "95   VINCENT CHASE              UV Protection Aviator Sunglasses (62)    ₹269   \n",
       "96         Ray-Ban              UV Protection Aviator Sunglasses (57)    ₹699   \n",
       "97   VINCENT CHASE                   Others Spectacle Sunglasses (56)    ₹219   \n",
       "98          AISLIN         UV Protection Retro Square Sunglasses (52)  ₹9,799   \n",
       "\n",
       "      offer  \n",
       "0   77% off  \n",
       "1   78% off  \n",
       "2   60% off  \n",
       "3   35% off  \n",
       "4   64% off  \n",
       "..      ...  \n",
       "94  82% off  \n",
       "95  82% off  \n",
       "96  65% off  \n",
       "97  74% off  \n",
       "98  10% off  \n",
       "\n",
       "[99 rows x 4 columns]"
      ]
     },
     "execution_count": 72,
     "metadata": {},
     "output_type": "execute_result"
    }
   ],
   "source": [
    "new_sunglasses_df=sunglasses_df[0:99]\n",
    "new_sunglasses_df"
   ]
  },
  {
   "cell_type": "markdown",
   "id": "19e1ba63",
   "metadata": {},
   "source": [
    "Q5: Scrape 100 reviews data from flipkart.com for iphone11 phone."
   ]
  },
  {
   "cell_type": "code",
   "execution_count": 134,
   "id": "6ae1c43c",
   "metadata": {},
   "outputs": [],
   "source": [
    "driver.get(\"https://www.flipkart.com/apple-iphone-12-black-128-gb/product-reviews/itmf1f0a58f1ecd7?pid=MOBFWBYZK3HACR72&lid=LSTMOBFWBYZK3HACR72PX4KSA&marketplace=FLIPKART\")"
   ]
  },
  {
   "cell_type": "code",
   "execution_count": 135,
   "id": "6fcd0cb1",
   "metadata": {},
   "outputs": [],
   "source": [
    "#scraping data\n",
    "rating=[]\n",
    "review_summary=[]\n",
    "full_review=[]"
   ]
  },
  {
   "cell_type": "code",
   "execution_count": 136,
   "id": "983ac4f4",
   "metadata": {},
   "outputs": [],
   "source": [
    "#scraping rating\n",
    "for i in range(0,11):\n",
    "        rating_tags=driver.find_elements_by_xpath('//div[@class=\"_3LWZlK _1BLPMq\"]')\n",
    "        for i in rating_tags:\n",
    "            phn_rating=i.text\n",
    "            rating.append(phn_rating)\n",
    "        next_button=driver.find_element_by_xpath(\"/html/body/div/div/div[3]/div/div/div[2]/div[13]/div/div/nav/a[11]\")\n",
    "        next_button.click()\n",
    "        time.sleep(2)\n"
   ]
  },
  {
   "cell_type": "code",
   "execution_count": 137,
   "id": "021291a7",
   "metadata": {},
   "outputs": [
    {
     "data": {
      "text/plain": [
       "108"
      ]
     },
     "execution_count": 137,
     "metadata": {},
     "output_type": "execute_result"
    }
   ],
   "source": [
    "len(rating)"
   ]
  },
  {
   "cell_type": "code",
   "execution_count": 138,
   "id": "150d3a75",
   "metadata": {},
   "outputs": [],
   "source": [
    "#scraping summary\n",
    "for i in range(0,11):\n",
    "        summary_tags=driver.find_elements_by_xpath('//p[@class=\"_2-N8zT\"]')\n",
    "        for i in summary_tags:\n",
    "            phn_summary=i.text\n",
    "            review_summary.append(phn_summary)\n",
    "        next_button=driver.find_element_by_xpath(\"/html/body/div/div/div[3]/div/div/div[2]/div[13]/div/div/nav/a[11]\")\n",
    "        next_button.click()\n",
    "        time.sleep(2)\n"
   ]
  },
  {
   "cell_type": "code",
   "execution_count": 139,
   "id": "2e1b8bd3",
   "metadata": {},
   "outputs": [],
   "source": [
    "#scraping full_review\n",
    "for i in range(0,11):\n",
    "        review_tags=driver.find_elements_by_xpath('//div[@class=\"t-ZTKy\"]')\n",
    "        for i in review_tags:\n",
    "            review=i.text\n",
    "            full_review.append(review)\n",
    "        next_button=driver.find_element_by_xpath(\"/html/body/div/div/div[3]/div/div/div[2]/div[13]/div/div/nav/a[11]\")\n",
    "        next_button.click()\n",
    "        time.sleep(2)\n"
   ]
  },
  {
   "cell_type": "code",
   "execution_count": 141,
   "id": "685077a7",
   "metadata": {},
   "outputs": [],
   "source": [
    "rating=rating[0:99]\n",
    "review_summary=review_summary[0:99]\n",
    "full_review=full_review[0:99]\n"
   ]
  },
  {
   "cell_type": "code",
   "execution_count": 142,
   "id": "fd86e881",
   "metadata": {},
   "outputs": [],
   "source": [
    "import pandas as pd\n",
    "i_phone_df=pd.DataFrame({\"rating\":rating,\"review_summary\":review_summary,\"full_review\":full_review})"
   ]
  },
  {
   "cell_type": "code",
   "execution_count": 143,
   "id": "26ec7b31",
   "metadata": {},
   "outputs": [
    {
     "data": {
      "text/html": [
       "<div>\n",
       "<style scoped>\n",
       "    .dataframe tbody tr th:only-of-type {\n",
       "        vertical-align: middle;\n",
       "    }\n",
       "\n",
       "    .dataframe tbody tr th {\n",
       "        vertical-align: top;\n",
       "    }\n",
       "\n",
       "    .dataframe thead th {\n",
       "        text-align: right;\n",
       "    }\n",
       "</style>\n",
       "<table border=\"1\" class=\"dataframe\">\n",
       "  <thead>\n",
       "    <tr style=\"text-align: right;\">\n",
       "      <th></th>\n",
       "      <th>rating</th>\n",
       "      <th>review_summary</th>\n",
       "      <th>full_review</th>\n",
       "    </tr>\n",
       "  </thead>\n",
       "  <tbody>\n",
       "    <tr>\n",
       "      <th>0</th>\n",
       "      <td>5</td>\n",
       "      <td>Good</td>\n",
       "      <td>Not sure if FLIPKART would dare to keep this r...</td>\n",
       "    </tr>\n",
       "    <tr>\n",
       "      <th>1</th>\n",
       "      <td>5</td>\n",
       "      <td>Utterly Disappointed</td>\n",
       "      <td>Phone has flickering issue within 8 days .. Fl...</td>\n",
       "    </tr>\n",
       "    <tr>\n",
       "      <th>2</th>\n",
       "      <td>5</td>\n",
       "      <td>Mind-blowing purchase</td>\n",
       "      <td>Awesome product ❤️</td>\n",
       "    </tr>\n",
       "    <tr>\n",
       "      <th>3</th>\n",
       "      <td>5</td>\n",
       "      <td>Classy product</td>\n",
       "      <td>Love it n the best part is the camera and perf...</td>\n",
       "    </tr>\n",
       "    <tr>\n",
       "      <th>4</th>\n",
       "      <td>5</td>\n",
       "      <td>Brilliant</td>\n",
       "      <td>Nice</td>\n",
       "    </tr>\n",
       "    <tr>\n",
       "      <th>...</th>\n",
       "      <td>...</td>\n",
       "      <td>...</td>\n",
       "      <td>...</td>\n",
       "    </tr>\n",
       "    <tr>\n",
       "      <th>94</th>\n",
       "      <td>5</td>\n",
       "      <td>Brilliant</td>\n",
       "      <td>Nice</td>\n",
       "    </tr>\n",
       "    <tr>\n",
       "      <th>95</th>\n",
       "      <td>5</td>\n",
       "      <td>Mind-blowing purchase</td>\n",
       "      <td>Camera is good\\nBattery is good\\nPerformance i...</td>\n",
       "    </tr>\n",
       "    <tr>\n",
       "      <th>96</th>\n",
       "      <td>5</td>\n",
       "      <td>Super!</td>\n",
       "      <td>AWESOME PHONE ONE OF THE BEST FLAGSHIP PHONE E...</td>\n",
       "    </tr>\n",
       "    <tr>\n",
       "      <th>97</th>\n",
       "      <td>5</td>\n",
       "      <td>Simply awesome</td>\n",
       "      <td>Excellent camera , good performance,average ba...</td>\n",
       "    </tr>\n",
       "    <tr>\n",
       "      <th>98</th>\n",
       "      <td>5</td>\n",
       "      <td>Simply awesome</td>\n",
       "      <td>Upgrade my I phone 11 to I phone12 .\\n2-Most p...</td>\n",
       "    </tr>\n",
       "  </tbody>\n",
       "</table>\n",
       "<p>99 rows × 3 columns</p>\n",
       "</div>"
      ],
      "text/plain": [
       "   rating         review_summary  \\\n",
       "0       5                   Good   \n",
       "1       5   Utterly Disappointed   \n",
       "2       5  Mind-blowing purchase   \n",
       "3       5         Classy product   \n",
       "4       5              Brilliant   \n",
       "..    ...                    ...   \n",
       "94      5              Brilliant   \n",
       "95      5  Mind-blowing purchase   \n",
       "96      5                 Super!   \n",
       "97      5         Simply awesome   \n",
       "98      5         Simply awesome   \n",
       "\n",
       "                                          full_review  \n",
       "0   Not sure if FLIPKART would dare to keep this r...  \n",
       "1   Phone has flickering issue within 8 days .. Fl...  \n",
       "2                                  Awesome product ❤️  \n",
       "3   Love it n the best part is the camera and perf...  \n",
       "4                                                Nice  \n",
       "..                                                ...  \n",
       "94                                               Nice  \n",
       "95  Camera is good\\nBattery is good\\nPerformance i...  \n",
       "96  AWESOME PHONE ONE OF THE BEST FLAGSHIP PHONE E...  \n",
       "97  Excellent camera , good performance,average ba...  \n",
       "98  Upgrade my I phone 11 to I phone12 .\\n2-Most p...  \n",
       "\n",
       "[99 rows x 3 columns]"
      ]
     },
     "execution_count": 143,
     "metadata": {},
     "output_type": "execute_result"
    }
   ],
   "source": [
    "i_phone_df"
   ]
  },
  {
   "cell_type": "markdown",
   "id": "3f61fa31",
   "metadata": {},
   "source": [
    "Q6: Scrape data for first 100 sneakers you find when you visit flipkart.com andsearch for “sneakers” in the\n",
    "search field."
   ]
  },
  {
   "cell_type": "code",
   "execution_count": 207,
   "id": "39e9970f",
   "metadata": {},
   "outputs": [],
   "source": [
    "#install all the required libraries\n",
    "import pandas as pd\n",
    "import time\n",
    "import selenium\n",
    "from selenium import webdriver\n",
    "import warnings\n",
    "warnings.filterwarnings(\"ignore\")"
   ]
  },
  {
   "cell_type": "code",
   "execution_count": 208,
   "id": "fd46e734",
   "metadata": {},
   "outputs": [],
   "source": [
    "#let first connect to the web drivers\n",
    "driver=webdriver.Chrome(r\"C:\\webdriver\\chromedriver.exe\")"
   ]
  },
  {
   "cell_type": "code",
   "execution_count": 209,
   "id": "0f4873c5",
   "metadata": {},
   "outputs": [],
   "source": [
    "driver=webdriver.Chrome(\"chromedriver.exe\")\n",
    "time.sleep(2)"
   ]
  },
  {
   "cell_type": "code",
   "execution_count": 199,
   "id": "3ebedd38",
   "metadata": {},
   "outputs": [],
   "source": [
    "driver.get(\"https://www.flipkart.com\")"
   ]
  },
  {
   "cell_type": "code",
   "execution_count": 200,
   "id": "a8991b3a",
   "metadata": {},
   "outputs": [],
   "source": [
    "search_field_designation=driver.find_element_by_xpath('/html/body/div/div/div[1]/div[1]/div[2]/div[2]/form/div/div/input') \n",
    "search_field_designation.send_keys(\"sneakers\")"
   ]
  },
  {
   "cell_type": "code",
   "execution_count": 202,
   "id": "397c51a9",
   "metadata": {},
   "outputs": [],
   "source": [
    "#. clicking the search button\n",
    "search_button=driver.find_element_by_xpath(\"/html/body/div[1]/div/div[1]/div[1]/div[2]/div[2]/form/div/button\")\n",
    "search_button.click()\n"
   ]
  },
  {
   "cell_type": "code",
   "execution_count": 203,
   "id": "e64b2bb2",
   "metadata": {},
   "outputs": [],
   "source": [
    "brand=[]\n",
    "product_description=[]\n",
    "product_price=[]\n",
    "offer=[]"
   ]
  },
  {
   "cell_type": "code",
   "execution_count": 204,
   "id": "ae47bc86",
   "metadata": {},
   "outputs": [],
   "source": [
    "#scrape brand\n",
    "for i in range(0,3):\n",
    "        brand_tags=driver.find_elements_by_xpath('//div[@class=\"_2WkVRV\"]')\n",
    "        for i in brand_tags:\n",
    "            product_brand=i.text\n",
    "            brand.append( product_brand)\n",
    "        next_button=driver.find_element_by_xpath(\"/html/body/div[1]/div/div[3]/div[1]/div[2]/div[12]/div/div/nav/a[11]\")\n",
    "        next_button.click()\n",
    "        time.sleep(2)\n",
    "    "
   ]
  },
  {
   "cell_type": "code",
   "execution_count": 205,
   "id": "72650ed3",
   "metadata": {},
   "outputs": [],
   "source": [
    "#scrape Product_description\n",
    "for i in range(0,3):\n",
    "        description_tags=driver.find_elements_by_xpath('//a[@class=\"IRpwTa\"]')\n",
    "        for i in description_tags:\n",
    "            description=i.text\n",
    "            product_description.append(description)\n",
    "        next_button=driver.find_element_by_xpath(\"/html/body/div[1]/div/div[3]/div[1]/div[2]/div[12]/div/div/nav/a[11]\")\n",
    "        next_button.click()\n",
    "        time.sleep(2)\n",
    "    "
   ]
  },
  {
   "cell_type": "code",
   "execution_count": 206,
   "id": "ac227918",
   "metadata": {},
   "outputs": [],
   "source": [
    "for i in range(0,3):\n",
    "        offer_tags=driver.find_elements_by_xpath('//div[@class=\"_3I9_wc\"]')\n",
    "        for i in offer_tags:\n",
    "            off=i.text\n",
    "            offer.append(off)\n",
    "        next_button=driver.find_element_by_xpath(\"/html/body/div[1]/div/div[3]/div[1]/div[2]/div[12]/div/div/nav/a[11]\")\n",
    "        next_button.click()\n",
    "        time.sleep(2)\n"
   ]
  },
  {
   "cell_type": "code",
   "execution_count": 177,
   "id": "8553a34d",
   "metadata": {},
   "outputs": [],
   "source": [
    "#scrape  shoe_price\n",
    "for i in range(0,2):\n",
    "    price_tags=driver.find_elements_by_xpath('//div[@class=\"product-price\"]')\n",
    "    for i in price_tags:\n",
    "        price=i.text\n",
    "        shoe_price.append(price)\n",
    "    next_button=driver.find_element_by_xpath(\"/html/body/div[1]/div/div[3]/div[1]/div[2]/div[12]/div/div/nav/a[11]\")\n",
    "    next_button.click()\n",
    "    time.sleep(2)\n",
    "\n"
   ]
  },
  {
   "cell_type": "code",
   "execution_count": 180,
   "id": "c9977d00",
   "metadata": {},
   "outputs": [
    {
     "data": {
      "text/plain": [
       "(120, 117, 120, 120)"
      ]
     },
     "execution_count": 180,
     "metadata": {},
     "output_type": "execute_result"
    }
   ],
   "source": [
    "len(price),len(offer),len(Product_description),len(brand)"
   ]
  },
  {
   "cell_type": "code",
   "execution_count": 183,
   "id": "d294004e",
   "metadata": {},
   "outputs": [],
   "source": [
    "import pandas as pd\n",
    "shoe_df=pd.DataFrame({\"brand\":brand,\"Product_description\":Product_description,\"price\":price})"
   ]
  },
  {
   "cell_type": "code",
   "execution_count": 184,
   "id": "2434b4e1",
   "metadata": {},
   "outputs": [
    {
     "data": {
      "text/html": [
       "<div>\n",
       "<style scoped>\n",
       "    .dataframe tbody tr th:only-of-type {\n",
       "        vertical-align: middle;\n",
       "    }\n",
       "\n",
       "    .dataframe tbody tr th {\n",
       "        vertical-align: top;\n",
       "    }\n",
       "\n",
       "    .dataframe thead th {\n",
       "        text-align: right;\n",
       "    }\n",
       "</style>\n",
       "<table border=\"1\" class=\"dataframe\">\n",
       "  <thead>\n",
       "    <tr style=\"text-align: right;\">\n",
       "      <th></th>\n",
       "      <th>brand</th>\n",
       "      <th>Product_description</th>\n",
       "      <th>price</th>\n",
       "    </tr>\n",
       "  </thead>\n",
       "  <tbody>\n",
       "    <tr>\n",
       "      <th>0</th>\n",
       "      <td>HOC</td>\n",
       "      <td>UV Protection Oval Sunglasses (55)</td>\n",
       "      <td>₹8,333</td>\n",
       "    </tr>\n",
       "    <tr>\n",
       "      <th>1</th>\n",
       "      <td>DUNKASTON</td>\n",
       "      <td>UV Protection Rectangular, Retro Square Sungla...</td>\n",
       "      <td>₹499</td>\n",
       "    </tr>\n",
       "    <tr>\n",
       "      <th>2</th>\n",
       "      <td>URBANBOX</td>\n",
       "      <td>Mirrored Aviator Sunglasses (55)</td>\n",
       "      <td>₹399</td>\n",
       "    </tr>\n",
       "    <tr>\n",
       "      <th>3</th>\n",
       "      <td>BRUTON</td>\n",
       "      <td>UV Protection, Gradient Cat-eye Sunglasses (58)</td>\n",
       "      <td>₹498</td>\n",
       "    </tr>\n",
       "    <tr>\n",
       "      <th>4</th>\n",
       "      <td>corsac</td>\n",
       "      <td>UV Protection, Polarized, Mirrored Retro Squar...</td>\n",
       "      <td>₹195</td>\n",
       "    </tr>\n",
       "    <tr>\n",
       "      <th>...</th>\n",
       "      <td>...</td>\n",
       "      <td>...</td>\n",
       "      <td>...</td>\n",
       "    </tr>\n",
       "    <tr>\n",
       "      <th>115</th>\n",
       "      <td>sneaker hub</td>\n",
       "      <td>UV Protection, Mirrored Aviator Sunglasses (57)</td>\n",
       "      <td>₹395</td>\n",
       "    </tr>\n",
       "    <tr>\n",
       "      <th>116</th>\n",
       "      <td>Hida</td>\n",
       "      <td>Polarized, UV Protection Wayfarer Sunglasses (61)</td>\n",
       "      <td>₹449</td>\n",
       "    </tr>\n",
       "    <tr>\n",
       "      <th>117</th>\n",
       "      <td>HOCKWOOD</td>\n",
       "      <td>UV Protection, Gradient Cat-eye Sunglasses (61)</td>\n",
       "      <td>₹719</td>\n",
       "    </tr>\n",
       "    <tr>\n",
       "      <th>118</th>\n",
       "      <td>ADIDAS ORIGINALS</td>\n",
       "      <td>UV Protection Oval Sunglasses (60)</td>\n",
       "      <td>₹995</td>\n",
       "    </tr>\n",
       "    <tr>\n",
       "      <th>119</th>\n",
       "      <td>RapidBox</td>\n",
       "      <td>UV Protection Cat-eye Sunglasses (60)</td>\n",
       "      <td>₹245</td>\n",
       "    </tr>\n",
       "  </tbody>\n",
       "</table>\n",
       "<p>120 rows × 3 columns</p>\n",
       "</div>"
      ],
      "text/plain": [
       "                brand                                Product_description  \\\n",
       "0                 HOC                 UV Protection Oval Sunglasses (55)   \n",
       "1           DUNKASTON  UV Protection Rectangular, Retro Square Sungla...   \n",
       "2            URBANBOX                   Mirrored Aviator Sunglasses (55)   \n",
       "3              BRUTON    UV Protection, Gradient Cat-eye Sunglasses (58)   \n",
       "4              corsac  UV Protection, Polarized, Mirrored Retro Squar...   \n",
       "..                ...                                                ...   \n",
       "115       sneaker hub    UV Protection, Mirrored Aviator Sunglasses (57)   \n",
       "116              Hida  Polarized, UV Protection Wayfarer Sunglasses (61)   \n",
       "117          HOCKWOOD    UV Protection, Gradient Cat-eye Sunglasses (61)   \n",
       "118  ADIDAS ORIGINALS                 UV Protection Oval Sunglasses (60)   \n",
       "119          RapidBox              UV Protection Cat-eye Sunglasses (60)   \n",
       "\n",
       "      price  \n",
       "0    ₹8,333  \n",
       "1      ₹499  \n",
       "2      ₹399  \n",
       "3      ₹498  \n",
       "4      ₹195  \n",
       "..      ...  \n",
       "115    ₹395  \n",
       "116    ₹449  \n",
       "117    ₹719  \n",
       "118    ₹995  \n",
       "119    ₹245  \n",
       "\n",
       "[120 rows x 3 columns]"
      ]
     },
     "execution_count": 184,
     "metadata": {},
     "output_type": "execute_result"
    }
   ],
   "source": [
    "shoe_df"
   ]
  },
  {
   "cell_type": "markdown",
   "id": "fd3e487f",
   "metadata": {},
   "source": [
    "Q7:: Go to the link - https://www.myntra.com/shoes\n",
    "Set Price filter to “Rs. 7149 to Rs. 14099 ” , Color filter to “Black”,"
   ]
  },
  {
   "cell_type": "code",
   "execution_count": 135,
   "id": "65258634",
   "metadata": {},
   "outputs": [],
   "source": [
    "#install all the required libraries\n",
    "import pandas as pd\n",
    "import time\n",
    "import selenium\n",
    "from selenium import webdriver\n",
    "import warnings\n",
    "warnings.filterwarnings(\"ignore\")"
   ]
  },
  {
   "cell_type": "code",
   "execution_count": 136,
   "id": "340b7d4c",
   "metadata": {},
   "outputs": [],
   "source": [
    "#let first connect to the web drivers\n",
    "driver=webdriver.Chrome(r\"C:\\webdriver\\chromedriver.exe\")"
   ]
  },
  {
   "cell_type": "code",
   "execution_count": 137,
   "id": "8b10991f",
   "metadata": {},
   "outputs": [],
   "source": [
    "driver=webdriver.Chrome(\"chromedriver.exe\")\n",
    "time.sleep(2)"
   ]
  },
  {
   "cell_type": "code",
   "execution_count": 138,
   "id": "ab0001ea",
   "metadata": {},
   "outputs": [],
   "source": [
    "\n",
    "driver.get('https://www.myntra.com/shoes')"
   ]
  },
  {
   "cell_type": "code",
   "execution_count": 139,
   "id": "1e2d8a0a",
   "metadata": {},
   "outputs": [],
   "source": [
    "#color filter\n",
    "colour_filter=driver.find_elements_by_xpath('//span[@class=\"colour-label colour-colorDisplay\"]')\n"
   ]
  },
  {
   "cell_type": "code",
   "execution_count": 140,
   "id": "3a0906aa",
   "metadata": {},
   "outputs": [],
   "source": [
    "colour_filter[0].click()"
   ]
  },
  {
   "cell_type": "code",
   "execution_count": 141,
   "id": "1a6b736f",
   "metadata": {},
   "outputs": [],
   "source": [
    "price_filter=driver.find_elements_by_xpath('//span[@class=\"price-num\"]')\n"
   ]
  },
  {
   "cell_type": "code",
   "execution_count": 142,
   "id": "5c7cdf1c",
   "metadata": {},
   "outputs": [],
   "source": [
    "price_filter[1].click()"
   ]
  },
  {
   "cell_type": "code",
   "execution_count": 143,
   "id": "9eb950d9",
   "metadata": {},
   "outputs": [],
   "source": [
    "#scraping data\n",
    "shoe_brand=[]\n",
    "short_shoe_description=[]\n",
    "shoe_price=[]"
   ]
  },
  {
   "cell_type": "code",
   "execution_count": 144,
   "id": "f5aa133a",
   "metadata": {},
   "outputs": [],
   "source": [
    "#scrape shoe brand\n",
    "brand_tags=driver.find_elements_by_xpath(\"//h3[@class='product-brand']\")\n"
   ]
  },
  {
   "cell_type": "code",
   "execution_count": 145,
   "id": "ee5c2d97",
   "metadata": {},
   "outputs": [],
   "source": [
    "for i in range(0,2):\n",
    "        brand_tags=driver.find_elements_by_xpath(\"//h3[@class='product-brand']\")\n",
    "        for i in brand_tags:\n",
    "            brand=i.text\n",
    "            shoe_brand.append(brand)\n",
    "        next_button=driver.find_element_by_xpath(\"/html/body/div[2]/div/div[1]/main/div[3]/div[2]/div/div[2]/section/div[2]/ul/li[12]/a\")\n",
    "        next_button.click()\n",
    "        time.sleep(2)\n"
   ]
  },
  {
   "cell_type": "code",
   "execution_count": 146,
   "id": "54d63fdb",
   "metadata": {},
   "outputs": [],
   "source": [
    "#short_shoe_description\n",
    "for i in range(0,2):\n",
    "        description_tags=driver.find_elements_by_xpath(\"//h4[@class='product-product']\")\n",
    "        for i in description_tags:\n",
    "            description=i.text\n",
    "            short_shoe_description.append(description)\n",
    "        next_button=driver.find_element_by_xpath(\"/html/body/div[2]/div/div[1]/main/div[3]/div[2]/div/div[2]/section/div[2]/ul/li[12]/a\")\n",
    "        next_button.click()\n",
    "        time.sleep(2)\n"
   ]
  },
  {
   "cell_type": "code",
   "execution_count": 148,
   "id": "01c43f3d",
   "metadata": {},
   "outputs": [
    {
     "ename": "NoSuchElementException",
     "evalue": "Message: no such element: Unable to locate element: {\"method\":\"xpath\",\"selector\":\"/html/body/div[2]/div/div[1]/main/div[3]/div[2]/div/div[2]/section/div[2]/ul/li[12]/a\"}\n  (Session info: chrome=101.0.4951.64)\nStacktrace:\nBacktrace:\n\tOrdinal0 [0x00E87413+2389011]\n\tOrdinal0 [0x00E19F61+1941345]\n\tOrdinal0 [0x00D0C658+837208]\n\tOrdinal0 [0x00D391DD+1020381]\n\tOrdinal0 [0x00D3949B+1021083]\n\tOrdinal0 [0x00D66032+1204274]\n\tOrdinal0 [0x00D54194+1130900]\n\tOrdinal0 [0x00D64302+1196802]\n\tOrdinal0 [0x00D53F66+1130342]\n\tOrdinal0 [0x00D2E546+976198]\n\tOrdinal0 [0x00D2F456+980054]\n\tGetHandleVerifier [0x01039632+1727522]\n\tGetHandleVerifier [0x010EBA4D+2457661]\n\tGetHandleVerifier [0x00F1EB81+569713]\n\tGetHandleVerifier [0x00F1DD76+566118]\n\tOrdinal0 [0x00E20B2B+1968939]\n\tOrdinal0 [0x00E25988+1989000]\n\tOrdinal0 [0x00E25A75+1989237]\n\tOrdinal0 [0x00E2ECB1+2026673]\n\tBaseThreadInitThunk [0x77A86739+25]\n\tRtlGetFullPathName_UEx [0x77DE8FEF+1215]\n\tRtlGetFullPathName_UEx [0x77DE8FBD+1165]\n",
     "output_type": "error",
     "traceback": [
      "\u001b[1;31m---------------------------------------------------------------------------\u001b[0m",
      "\u001b[1;31mNoSuchElementException\u001b[0m                    Traceback (most recent call last)",
      "\u001b[1;32mC:\\Users\\VIVEKR~1\\AppData\\Local\\Temp/ipykernel_10348/1748200298.py\u001b[0m in \u001b[0;36m<module>\u001b[1;34m\u001b[0m\n\u001b[0;32m      5\u001b[0m         \u001b[0mprice\u001b[0m\u001b[1;33m=\u001b[0m\u001b[0mi\u001b[0m\u001b[1;33m.\u001b[0m\u001b[0mtext\u001b[0m\u001b[1;33m\u001b[0m\u001b[1;33m\u001b[0m\u001b[0m\n\u001b[0;32m      6\u001b[0m         \u001b[0mshoe_price\u001b[0m\u001b[1;33m.\u001b[0m\u001b[0mappend\u001b[0m\u001b[1;33m(\u001b[0m\u001b[0mprice\u001b[0m\u001b[1;33m)\u001b[0m\u001b[1;33m\u001b[0m\u001b[1;33m\u001b[0m\u001b[0m\n\u001b[1;32m----> 7\u001b[1;33m     \u001b[0mnext_button\u001b[0m\u001b[1;33m=\u001b[0m\u001b[0mdriver\u001b[0m\u001b[1;33m.\u001b[0m\u001b[0mfind_element_by_xpath\u001b[0m\u001b[1;33m(\u001b[0m\u001b[1;34m\"/html/body/div[2]/div/div[1]/main/div[3]/div[2]/div/div[2]/section/div[2]/ul/li[12]/a\"\u001b[0m\u001b[1;33m)\u001b[0m\u001b[1;33m\u001b[0m\u001b[1;33m\u001b[0m\u001b[0m\n\u001b[0m\u001b[0;32m      8\u001b[0m     \u001b[0mnext_button\u001b[0m\u001b[1;33m.\u001b[0m\u001b[0mclick\u001b[0m\u001b[1;33m(\u001b[0m\u001b[1;33m)\u001b[0m\u001b[1;33m\u001b[0m\u001b[1;33m\u001b[0m\u001b[0m\n\u001b[0;32m      9\u001b[0m     \u001b[0mtime\u001b[0m\u001b[1;33m.\u001b[0m\u001b[0msleep\u001b[0m\u001b[1;33m(\u001b[0m\u001b[1;36m2\u001b[0m\u001b[1;33m)\u001b[0m\u001b[1;33m\u001b[0m\u001b[1;33m\u001b[0m\u001b[0m\n",
      "\u001b[1;32m~\\anaconda3\\lib\\site-packages\\selenium\\webdriver\\remote\\webdriver.py\u001b[0m in \u001b[0;36mfind_element_by_xpath\u001b[1;34m(self, xpath)\u001b[0m\n\u001b[0;32m    519\u001b[0m             \u001b[0mstacklevel\u001b[0m\u001b[1;33m=\u001b[0m\u001b[1;36m2\u001b[0m\u001b[1;33m,\u001b[0m\u001b[1;33m\u001b[0m\u001b[1;33m\u001b[0m\u001b[0m\n\u001b[0;32m    520\u001b[0m         )\n\u001b[1;32m--> 521\u001b[1;33m         \u001b[1;32mreturn\u001b[0m \u001b[0mself\u001b[0m\u001b[1;33m.\u001b[0m\u001b[0mfind_element\u001b[0m\u001b[1;33m(\u001b[0m\u001b[0mby\u001b[0m\u001b[1;33m=\u001b[0m\u001b[0mBy\u001b[0m\u001b[1;33m.\u001b[0m\u001b[0mXPATH\u001b[0m\u001b[1;33m,\u001b[0m \u001b[0mvalue\u001b[0m\u001b[1;33m=\u001b[0m\u001b[0mxpath\u001b[0m\u001b[1;33m)\u001b[0m\u001b[1;33m\u001b[0m\u001b[1;33m\u001b[0m\u001b[0m\n\u001b[0m\u001b[0;32m    522\u001b[0m \u001b[1;33m\u001b[0m\u001b[0m\n\u001b[0;32m    523\u001b[0m     \u001b[1;32mdef\u001b[0m \u001b[0mfind_elements_by_xpath\u001b[0m\u001b[1;33m(\u001b[0m\u001b[0mself\u001b[0m\u001b[1;33m,\u001b[0m \u001b[0mxpath\u001b[0m\u001b[1;33m)\u001b[0m \u001b[1;33m->\u001b[0m \u001b[0mList\u001b[0m\u001b[1;33m[\u001b[0m\u001b[0mWebElement\u001b[0m\u001b[1;33m]\u001b[0m\u001b[1;33m:\u001b[0m\u001b[1;33m\u001b[0m\u001b[1;33m\u001b[0m\u001b[0m\n",
      "\u001b[1;32m~\\anaconda3\\lib\\site-packages\\selenium\\webdriver\\remote\\webdriver.py\u001b[0m in \u001b[0;36mfind_element\u001b[1;34m(self, by, value)\u001b[0m\n\u001b[0;32m   1246\u001b[0m             \u001b[0mvalue\u001b[0m \u001b[1;33m=\u001b[0m \u001b[1;34m'[name=\"%s\"]'\u001b[0m \u001b[1;33m%\u001b[0m \u001b[0mvalue\u001b[0m\u001b[1;33m\u001b[0m\u001b[1;33m\u001b[0m\u001b[0m\n\u001b[0;32m   1247\u001b[0m \u001b[1;33m\u001b[0m\u001b[0m\n\u001b[1;32m-> 1248\u001b[1;33m         return self.execute(Command.FIND_ELEMENT, {\n\u001b[0m\u001b[0;32m   1249\u001b[0m             \u001b[1;34m'using'\u001b[0m\u001b[1;33m:\u001b[0m \u001b[0mby\u001b[0m\u001b[1;33m,\u001b[0m\u001b[1;33m\u001b[0m\u001b[1;33m\u001b[0m\u001b[0m\n\u001b[0;32m   1250\u001b[0m             'value': value})['value']\n",
      "\u001b[1;32m~\\anaconda3\\lib\\site-packages\\selenium\\webdriver\\remote\\webdriver.py\u001b[0m in \u001b[0;36mexecute\u001b[1;34m(self, driver_command, params)\u001b[0m\n\u001b[0;32m    423\u001b[0m         \u001b[0mresponse\u001b[0m \u001b[1;33m=\u001b[0m \u001b[0mself\u001b[0m\u001b[1;33m.\u001b[0m\u001b[0mcommand_executor\u001b[0m\u001b[1;33m.\u001b[0m\u001b[0mexecute\u001b[0m\u001b[1;33m(\u001b[0m\u001b[0mdriver_command\u001b[0m\u001b[1;33m,\u001b[0m \u001b[0mparams\u001b[0m\u001b[1;33m)\u001b[0m\u001b[1;33m\u001b[0m\u001b[1;33m\u001b[0m\u001b[0m\n\u001b[0;32m    424\u001b[0m         \u001b[1;32mif\u001b[0m \u001b[0mresponse\u001b[0m\u001b[1;33m:\u001b[0m\u001b[1;33m\u001b[0m\u001b[1;33m\u001b[0m\u001b[0m\n\u001b[1;32m--> 425\u001b[1;33m             \u001b[0mself\u001b[0m\u001b[1;33m.\u001b[0m\u001b[0merror_handler\u001b[0m\u001b[1;33m.\u001b[0m\u001b[0mcheck_response\u001b[0m\u001b[1;33m(\u001b[0m\u001b[0mresponse\u001b[0m\u001b[1;33m)\u001b[0m\u001b[1;33m\u001b[0m\u001b[1;33m\u001b[0m\u001b[0m\n\u001b[0m\u001b[0;32m    426\u001b[0m             response['value'] = self._unwrap_value(\n\u001b[0;32m    427\u001b[0m                 response.get('value', None))\n",
      "\u001b[1;32m~\\anaconda3\\lib\\site-packages\\selenium\\webdriver\\remote\\errorhandler.py\u001b[0m in \u001b[0;36mcheck_response\u001b[1;34m(self, response)\u001b[0m\n\u001b[0;32m    245\u001b[0m                 \u001b[0malert_text\u001b[0m \u001b[1;33m=\u001b[0m \u001b[0mvalue\u001b[0m\u001b[1;33m[\u001b[0m\u001b[1;34m'alert'\u001b[0m\u001b[1;33m]\u001b[0m\u001b[1;33m.\u001b[0m\u001b[0mget\u001b[0m\u001b[1;33m(\u001b[0m\u001b[1;34m'text'\u001b[0m\u001b[1;33m)\u001b[0m\u001b[1;33m\u001b[0m\u001b[1;33m\u001b[0m\u001b[0m\n\u001b[0;32m    246\u001b[0m             \u001b[1;32mraise\u001b[0m \u001b[0mexception_class\u001b[0m\u001b[1;33m(\u001b[0m\u001b[0mmessage\u001b[0m\u001b[1;33m,\u001b[0m \u001b[0mscreen\u001b[0m\u001b[1;33m,\u001b[0m \u001b[0mstacktrace\u001b[0m\u001b[1;33m,\u001b[0m \u001b[0malert_text\u001b[0m\u001b[1;33m)\u001b[0m  \u001b[1;31m# type: ignore[call-arg]  # mypy is not smart enough here\u001b[0m\u001b[1;33m\u001b[0m\u001b[1;33m\u001b[0m\u001b[0m\n\u001b[1;32m--> 247\u001b[1;33m         \u001b[1;32mraise\u001b[0m \u001b[0mexception_class\u001b[0m\u001b[1;33m(\u001b[0m\u001b[0mmessage\u001b[0m\u001b[1;33m,\u001b[0m \u001b[0mscreen\u001b[0m\u001b[1;33m,\u001b[0m \u001b[0mstacktrace\u001b[0m\u001b[1;33m)\u001b[0m\u001b[1;33m\u001b[0m\u001b[1;33m\u001b[0m\u001b[0m\n\u001b[0m\u001b[0;32m    248\u001b[0m \u001b[1;33m\u001b[0m\u001b[0m\n\u001b[0;32m    249\u001b[0m     \u001b[1;32mdef\u001b[0m \u001b[0m_value_or_default\u001b[0m\u001b[1;33m(\u001b[0m\u001b[0mself\u001b[0m\u001b[1;33m,\u001b[0m \u001b[0mobj\u001b[0m\u001b[1;33m:\u001b[0m \u001b[0mMapping\u001b[0m\u001b[1;33m[\u001b[0m\u001b[0m_KT\u001b[0m\u001b[1;33m,\u001b[0m \u001b[0m_VT\u001b[0m\u001b[1;33m]\u001b[0m\u001b[1;33m,\u001b[0m \u001b[0mkey\u001b[0m\u001b[1;33m:\u001b[0m \u001b[0m_KT\u001b[0m\u001b[1;33m,\u001b[0m \u001b[0mdefault\u001b[0m\u001b[1;33m:\u001b[0m \u001b[0m_VT\u001b[0m\u001b[1;33m)\u001b[0m \u001b[1;33m->\u001b[0m \u001b[0m_VT\u001b[0m\u001b[1;33m:\u001b[0m\u001b[1;33m\u001b[0m\u001b[1;33m\u001b[0m\u001b[0m\n",
      "\u001b[1;31mNoSuchElementException\u001b[0m: Message: no such element: Unable to locate element: {\"method\":\"xpath\",\"selector\":\"/html/body/div[2]/div/div[1]/main/div[3]/div[2]/div/div[2]/section/div[2]/ul/li[12]/a\"}\n  (Session info: chrome=101.0.4951.64)\nStacktrace:\nBacktrace:\n\tOrdinal0 [0x00E87413+2389011]\n\tOrdinal0 [0x00E19F61+1941345]\n\tOrdinal0 [0x00D0C658+837208]\n\tOrdinal0 [0x00D391DD+1020381]\n\tOrdinal0 [0x00D3949B+1021083]\n\tOrdinal0 [0x00D66032+1204274]\n\tOrdinal0 [0x00D54194+1130900]\n\tOrdinal0 [0x00D64302+1196802]\n\tOrdinal0 [0x00D53F66+1130342]\n\tOrdinal0 [0x00D2E546+976198]\n\tOrdinal0 [0x00D2F456+980054]\n\tGetHandleVerifier [0x01039632+1727522]\n\tGetHandleVerifier [0x010EBA4D+2457661]\n\tGetHandleVerifier [0x00F1EB81+569713]\n\tGetHandleVerifier [0x00F1DD76+566118]\n\tOrdinal0 [0x00E20B2B+1968939]\n\tOrdinal0 [0x00E25988+1989000]\n\tOrdinal0 [0x00E25A75+1989237]\n\tOrdinal0 [0x00E2ECB1+2026673]\n\tBaseThreadInitThunk [0x77A86739+25]\n\tRtlGetFullPathName_UEx [0x77DE8FEF+1215]\n\tRtlGetFullPathName_UEx [0x77DE8FBD+1165]\n"
     ]
    }
   ],
   "source": [
    "#scrape  shoe_price\n",
    "for i in range(0,2):\n",
    "    price_tags=driver.find_elements_by_xpath('//div[@class=\"product-price\"]/span[1]')\n",
    "    for i in price_tags:\n",
    "        price=i.text\n",
    "        shoe_price.append(price)\n",
    "    next_button=driver.find_element_by_xpath(\"/html/body/div[2]/div/div[1]/main/div[3]/div[2]/div/div[2]/section/div[2]/ul/li[12]/a\")\n",
    "    next_button.click()\n",
    "    time.sleep(2)\n",
    "\n"
   ]
  },
  {
   "cell_type": "code",
   "execution_count": 149,
   "id": "c5ef2ceb",
   "metadata": {},
   "outputs": [
    {
     "data": {
      "text/plain": [
       "(100, 100, 100)"
      ]
     },
     "execution_count": 149,
     "metadata": {},
     "output_type": "execute_result"
    }
   ],
   "source": [
    "len(shoe_price),len(short_shoe_description),len(shoe_brand)\n"
   ]
  },
  {
   "cell_type": "code",
   "execution_count": 151,
   "id": "828e147e",
   "metadata": {},
   "outputs": [],
   "source": [
    "#creating dataframe\n",
    "import pandas as pd\n",
    "shoe_dataframe=pd.DataFrame({\"shoe_brand\":shoe_brand,\"short_shoe_description\":short_shoe_description,\"shoe_price\":shoe_price})"
   ]
  },
  {
   "cell_type": "code",
   "execution_count": 152,
   "id": "8afbd661",
   "metadata": {},
   "outputs": [
    {
     "data": {
      "text/html": [
       "<div>\n",
       "<style scoped>\n",
       "    .dataframe tbody tr th:only-of-type {\n",
       "        vertical-align: middle;\n",
       "    }\n",
       "\n",
       "    .dataframe tbody tr th {\n",
       "        vertical-align: top;\n",
       "    }\n",
       "\n",
       "    .dataframe thead th {\n",
       "        text-align: right;\n",
       "    }\n",
       "</style>\n",
       "<table border=\"1\" class=\"dataframe\">\n",
       "  <thead>\n",
       "    <tr style=\"text-align: right;\">\n",
       "      <th></th>\n",
       "      <th>shoe_brand</th>\n",
       "      <th>short_shoe_description</th>\n",
       "      <th>shoe_price</th>\n",
       "    </tr>\n",
       "  </thead>\n",
       "  <tbody>\n",
       "    <tr>\n",
       "      <th>0</th>\n",
       "      <td>Nike</td>\n",
       "      <td>Men Nanoflex TR Training Shoes</td>\n",
       "      <td>Rs. 7499Rs. 14999</td>\n",
       "    </tr>\n",
       "    <tr>\n",
       "      <th>1</th>\n",
       "      <td>UNDER ARMOUR</td>\n",
       "      <td>Unisex KING Pro Football Shoes</td>\n",
       "      <td>Rs. 7199Rs. 8999</td>\n",
       "    </tr>\n",
       "    <tr>\n",
       "      <th>2</th>\n",
       "      <td>ALDO</td>\n",
       "      <td>Men Training Shoes</td>\n",
       "      <td>Rs. 7995</td>\n",
       "    </tr>\n",
       "    <tr>\n",
       "      <th>3</th>\n",
       "      <td>Skechers</td>\n",
       "      <td>Unisex Fusion Nitro Basketball</td>\n",
       "      <td>Rs. 10799Rs. 11999</td>\n",
       "    </tr>\n",
       "    <tr>\n",
       "      <th>4</th>\n",
       "      <td>Nike</td>\n",
       "      <td>Women Solid Loafers</td>\n",
       "      <td>Rs. 8999</td>\n",
       "    </tr>\n",
       "    <tr>\n",
       "      <th>...</th>\n",
       "      <td>...</td>\n",
       "      <td>...</td>\n",
       "      <td>...</td>\n",
       "    </tr>\n",
       "    <tr>\n",
       "      <th>95</th>\n",
       "      <td>Heel &amp; Buckle London</td>\n",
       "      <td>Men Solid Leather Formal Loafers</td>\n",
       "      <td>Rs. 13999</td>\n",
       "    </tr>\n",
       "    <tr>\n",
       "      <th>96</th>\n",
       "      <td>J.FONTINI</td>\n",
       "      <td>Unisex Kyrie Basketball Shoes</td>\n",
       "      <td>Rs. 9990</td>\n",
       "    </tr>\n",
       "    <tr>\n",
       "      <th>97</th>\n",
       "      <td>ALDO</td>\n",
       "      <td>Men Leather Formal Oxfords</td>\n",
       "      <td>Rs. 9990</td>\n",
       "    </tr>\n",
       "    <tr>\n",
       "      <th>98</th>\n",
       "      <td>Cole Haan</td>\n",
       "      <td>Tennis Hu Pharrell Williams</td>\n",
       "      <td>Rs. 7699Rs. 13999</td>\n",
       "    </tr>\n",
       "    <tr>\n",
       "      <th>99</th>\n",
       "      <td>Bugatti</td>\n",
       "      <td>Men Sneakers</td>\n",
       "      <td>Rs. 7999</td>\n",
       "    </tr>\n",
       "  </tbody>\n",
       "</table>\n",
       "<p>100 rows × 3 columns</p>\n",
       "</div>"
      ],
      "text/plain": [
       "              shoe_brand            short_shoe_description          shoe_price\n",
       "0                   Nike    Men Nanoflex TR Training Shoes   Rs. 7499Rs. 14999\n",
       "1           UNDER ARMOUR    Unisex KING Pro Football Shoes    Rs. 7199Rs. 8999\n",
       "2                   ALDO                Men Training Shoes            Rs. 7995\n",
       "3               Skechers    Unisex Fusion Nitro Basketball  Rs. 10799Rs. 11999\n",
       "4                   Nike               Women Solid Loafers            Rs. 8999\n",
       "..                   ...                               ...                 ...\n",
       "95  Heel & Buckle London  Men Solid Leather Formal Loafers           Rs. 13999\n",
       "96             J.FONTINI     Unisex Kyrie Basketball Shoes            Rs. 9990\n",
       "97                  ALDO        Men Leather Formal Oxfords            Rs. 9990\n",
       "98             Cole Haan       Tennis Hu Pharrell Williams   Rs. 7699Rs. 13999\n",
       "99               Bugatti                      Men Sneakers            Rs. 7999\n",
       "\n",
       "[100 rows x 3 columns]"
      ]
     },
     "execution_count": 152,
     "metadata": {},
     "output_type": "execute_result"
    }
   ],
   "source": [
    "shoe_dataframe"
   ]
  },
  {
   "cell_type": "markdown",
   "id": "7039d9e2",
   "metadata": {},
   "source": [
    "Q8: Go to webpage https://www.amazon.in/\n",
    "Enter “Laptop” in the search field and then click the search icon.\n",
    "Then set CPU Type filter to “Intel Core i7” and “Intel Core i9"
   ]
  },
  {
   "cell_type": "code",
   "execution_count": 23,
   "id": "3ff3eabc",
   "metadata": {},
   "outputs": [],
   "source": [
    "#install all the required libraries\n",
    "import pandas as pd\n",
    "import time\n",
    "import selenium\n",
    "from selenium import webdriver\n",
    "import warnings\n",
    "warnings.filterwarnings(\"ignore\")"
   ]
  },
  {
   "cell_type": "code",
   "execution_count": 24,
   "id": "42466fd3",
   "metadata": {},
   "outputs": [],
   "source": [
    "#let first connect to the web drivers\n",
    "driver=webdriver.Chrome(r\"C:\\webdriver\\chromedriver.exe\")"
   ]
  },
  {
   "cell_type": "code",
   "execution_count": 25,
   "id": "9a02be30",
   "metadata": {},
   "outputs": [],
   "source": [
    "driver=webdriver.Chrome(\"chromedriver.exe\")\n",
    "time.sleep(2)"
   ]
  },
  {
   "cell_type": "code",
   "execution_count": 7,
   "id": "f7d1a373",
   "metadata": {},
   "outputs": [],
   "source": [
    "\n",
    "driver.get('https://www.amazon.in/')"
   ]
  },
  {
   "cell_type": "code",
   "execution_count": 8,
   "id": "97a3273b",
   "metadata": {},
   "outputs": [],
   "source": [
    "#Enter “Laptop” in the search field\n",
    "search_field_designation=driver.find_element_by_xpath('/html/body/div[1]/header/div/div[1]/div[2]/div/form/div[2]/div[1]/input') \n",
    "search_field_designation.send_keys(\"laptop\")\n"
   ]
  },
  {
   "cell_type": "code",
   "execution_count": 9,
   "id": "139d9281",
   "metadata": {},
   "outputs": [],
   "source": [
    "#. clicking the search button\n",
    "search_button=driver.find_element_by_xpath(\"/html/body/div[1]/header/div/div[1]/div[2]/div/form/div[3]/div/span/input\")\n",
    "search_button.click()\n"
   ]
  },
  {
   "cell_type": "code",
   "execution_count": 10,
   "id": "ff6ca1ee",
   "metadata": {},
   "outputs": [],
   "source": [
    "#set CPU Type filter to “Intel Core i7” and “Intel Core i9” \n",
    "filter=driver.find_element_by_xpath('/html/body/div[1]/div[2]/div[1]/div[2]/div/div[3]/span/div[1]/div/div/div[5]/ul[4]/li[14]/span/a')\n"
   ]
  },
  {
   "cell_type": "code",
   "execution_count": 11,
   "id": "26bf8433",
   "metadata": {},
   "outputs": [],
   "source": [
    "filter.click()"
   ]
  },
  {
   "cell_type": "code",
   "execution_count": 12,
   "id": "fbe958a0",
   "metadata": {},
   "outputs": [],
   "source": [
    "#i9 filter\n",
    "#filter2=driver.find_element_by_xpath(\"/html/body/div[1]/div[2]/div[1]/div[2]/div/div[3]/span/div[1]/div/div/div[5]/ul[4]/li[15]/span/a\")\n",
    "#filter2.click()"
   ]
  },
  {
   "cell_type": "code",
   "execution_count": 13,
   "id": "d1c1c354",
   "metadata": {},
   "outputs": [],
   "source": [
    "#scrape title\n",
    "lap_title=[]\n",
    "title_tags=driver.find_elements_by_xpath('//span[@class=\"a-size-medium a-color-base a-text-normal\"]')\n",
    "for i in title_tags:\n",
    "    title=i.text\n",
    "    lap_title.append(title)\n"
   ]
  },
  {
   "cell_type": "code",
   "execution_count": 14,
   "id": "2de64c0a",
   "metadata": {},
   "outputs": [],
   "source": [
    "#scrape rating\n",
    "lap_rating=[]\n",
    "rating_tags=driver.find_elements_by_xpath('//span[@class=\"a-size-base s-underline-text\"]')\n",
    "for i in rating_tags:\n",
    "    rating=i.text\n",
    "    lap_rating.append(title)\n"
   ]
  },
  {
   "cell_type": "code",
   "execution_count": 17,
   "id": "90a3977f",
   "metadata": {},
   "outputs": [],
   "source": [
    "#scraping price\n",
    "\n",
    "lap_price=[]\n",
    "price_tags=driver.find_elements_by_xpath('//span[@class=\"a-price-symbol\"]')\n",
    "for i in price_tags:\n",
    "    price=i.text\n",
    "    lap_price.append(price)\n"
   ]
  },
  {
   "cell_type": "code",
   "execution_count": null,
   "id": "306755fc",
   "metadata": {},
   "outputs": [],
   "source": []
  },
  {
   "cell_type": "markdown",
   "id": "88dc324a",
   "metadata": {},
   "source": [
    "Q9: Write a python program to scrape data for first 10 job results for Data Scientist Designation in Noida\n",
    "location. You have to scrape company name, No. of days ago when job was posted, Rating of the company."
   ]
  },
  {
   "cell_type": "code",
   "execution_count": 44,
   "id": "c351432b",
   "metadata": {},
   "outputs": [],
   "source": [
    "#install all the required libraries\n",
    "import pandas as pd\n",
    "import time\n",
    "import selenium\n",
    "from selenium import webdriver\n",
    "import warnings\n",
    "warnings.filterwarnings(\"ignore\")"
   ]
  },
  {
   "cell_type": "code",
   "execution_count": 45,
   "id": "4de1ea45",
   "metadata": {},
   "outputs": [],
   "source": [
    "#let first connect to the web drivers\n",
    "driver=webdriver.Chrome(r\"C:\\webdriver\\chromedriver.exe\")"
   ]
  },
  {
   "cell_type": "code",
   "execution_count": 46,
   "id": "4dbd8fcc",
   "metadata": {},
   "outputs": [],
   "source": [
    "driver=webdriver.Chrome(\"chromedriver.exe\")\n",
    "time.sleep(2)"
   ]
  },
  {
   "cell_type": "code",
   "execution_count": 47,
   "id": "4d3e5aff",
   "metadata": {},
   "outputs": [],
   "source": [
    "driver.get(\"https://www.ambitionbox.com/\")"
   ]
  },
  {
   "cell_type": "code",
   "execution_count": 48,
   "id": "cd0f27cd",
   "metadata": {},
   "outputs": [],
   "source": [
    "search_button=driver.find_element_by_xpath(\"/html/body/div[1]/nav/nav/a[6]\")\n",
    "search_button.click()\n"
   ]
  },
  {
   "cell_type": "code",
   "execution_count": 50,
   "id": "3f67fc3c",
   "metadata": {},
   "outputs": [],
   "source": [
    "search_field_designation=driver.find_element_by_xpath('/html/body/div/div/div/div[2]/div[1]/div[1]/div/div/div/div/span/input') \n",
    "search_field_designation.send_keys(\"Data Scientist\")"
   ]
  },
  {
   "cell_type": "code",
   "execution_count": 51,
   "id": "2270c5d2",
   "metadata": {},
   "outputs": [],
   "source": [
    "search_button=driver.find_element_by_xpath(\"/html/body/div/div/div/div[2]/div[1]/div[1]/div/div/div/button\")\n",
    "search_button.click()"
   ]
  },
  {
   "cell_type": "code",
   "execution_count": 52,
   "id": "0d3cf73a",
   "metadata": {},
   "outputs": [],
   "source": [
    "#click on location\n",
    "location_button=driver.find_element_by_xpath(\"/html/body/div/div/div/div[2]/div[1]/div[2]/div[1]/div/div/div/div[2]/div[1]/p\")\n",
    "location_button.click()"
   ]
  },
  {
   "cell_type": "code",
   "execution_count": null,
   "id": "e561675a",
   "metadata": {},
   "outputs": [],
   "source": []
  },
  {
   "cell_type": "code",
   "execution_count": 53,
   "id": "860e0b67",
   "metadata": {},
   "outputs": [],
   "source": [
    "search_field_designation=driver.find_element_by_xpath('/html/body/div/div/div/div[2]/div[1]/div[2]/div[1]/div/div/div/div[2]/div[2]/div/div[2]/input') \n",
    "search_field_designation.send_keys(\"noida\")"
   ]
  },
  {
   "cell_type": "code",
   "execution_count": 55,
   "id": "a92c4cb7",
   "metadata": {},
   "outputs": [],
   "source": [
    "l=driver.find_elements_by_xpath('/html/body/div/div/div/div[2]/div[1]/div[2]/div[1]/div/div/div/div[2]/div[2]/div/div[3]/div[1]/div[1]/div/label')"
   ]
  },
  {
   "cell_type": "code",
   "execution_count": 56,
   "id": "68bade0a",
   "metadata": {},
   "outputs": [],
   "source": [
    "for i in l:\n",
    "    if(i.text == \"Noida\"):\n",
    "        i.click()     \n",
    "        break\n",
    "    "
   ]
  },
  {
   "cell_type": "code",
   "execution_count": 62,
   "id": "33a15e35",
   "metadata": {},
   "outputs": [],
   "source": [
    "#scrape company name\n",
    "company_name=[]\n",
    "company_tags=driver.find_elements_by_xpath('//p[@class=\"company body-medium\"]')"
   ]
  },
  {
   "cell_type": "code",
   "execution_count": 63,
   "id": "a7b84b6e",
   "metadata": {},
   "outputs": [],
   "source": [
    "for i in company_tags:\n",
    "    company=i.text\n",
    "    company_name.append(company)"
   ]
  },
  {
   "cell_type": "code",
   "execution_count": 64,
   "id": "50065920",
   "metadata": {},
   "outputs": [],
   "source": [
    "#scrape company rating\n",
    "company_rating=[]\n",
    "rating_tags=driver.find_elements_by_xpath('//span[@class=\"body-small\"]')"
   ]
  },
  {
   "cell_type": "code",
   "execution_count": 65,
   "id": "4fa568be",
   "metadata": {},
   "outputs": [],
   "source": [
    "for i in rating_tags:\n",
    "    rating=i.text\n",
    "    company_rating.append(rating)"
   ]
  },
  {
   "cell_type": "code",
   "execution_count": 66,
   "id": "7a220843",
   "metadata": {},
   "outputs": [],
   "source": [
    "#scrape job posted\n",
    "job_posted=[]\n",
    "posted_tags=driver.find_elements_by_xpath('//span[1][@class=\"body-small-l\"]')\n"
   ]
  },
  {
   "cell_type": "code",
   "execution_count": 67,
   "id": "03c3ce0f",
   "metadata": {},
   "outputs": [],
   "source": [
    "for i in posted_tags:\n",
    "    posted=i.text\n",
    "    job_posted.append(posted)"
   ]
  },
  {
   "cell_type": "code",
   "execution_count": 68,
   "id": "9cf49d65",
   "metadata": {},
   "outputs": [],
   "source": [
    "#creating dataframe\n",
    "import pandas as pd\n",
    "company_df=pd.DataFrame({\"company_name\":company_name,\"company_rating\":company_rating,\"job_posted\":job_posted})"
   ]
  },
  {
   "cell_type": "code",
   "execution_count": 69,
   "id": "fe41fa2e",
   "metadata": {},
   "outputs": [
    {
     "data": {
      "text/html": [
       "<div>\n",
       "<style scoped>\n",
       "    .dataframe tbody tr th:only-of-type {\n",
       "        vertical-align: middle;\n",
       "    }\n",
       "\n",
       "    .dataframe tbody tr th {\n",
       "        vertical-align: top;\n",
       "    }\n",
       "\n",
       "    .dataframe thead th {\n",
       "        text-align: right;\n",
       "    }\n",
       "</style>\n",
       "<table border=\"1\" class=\"dataframe\">\n",
       "  <thead>\n",
       "    <tr style=\"text-align: right;\">\n",
       "      <th></th>\n",
       "      <th>company_name</th>\n",
       "      <th>company_rating</th>\n",
       "      <th>job_posted</th>\n",
       "    </tr>\n",
       "  </thead>\n",
       "  <tbody>\n",
       "    <tr>\n",
       "      <th>0</th>\n",
       "      <td>Ericsson India Global Services Pvt. Ltd.</td>\n",
       "      <td>4.3</td>\n",
       "      <td>2d ago</td>\n",
       "    </tr>\n",
       "    <tr>\n",
       "      <th>1</th>\n",
       "      <td>EXL Services.com ( I ) Pvt. Ltd.</td>\n",
       "      <td>3.9</td>\n",
       "      <td>12d ago</td>\n",
       "    </tr>\n",
       "    <tr>\n",
       "      <th>2</th>\n",
       "      <td>GENPACT India Private Limited</td>\n",
       "      <td>4.0</td>\n",
       "      <td>24d ago</td>\n",
       "    </tr>\n",
       "    <tr>\n",
       "      <th>3</th>\n",
       "      <td>TECHNIP GLOBAL BUSINESS SERVICES PRIVATE LIMITED</td>\n",
       "      <td>3.9</td>\n",
       "      <td>10d ago</td>\n",
       "    </tr>\n",
       "    <tr>\n",
       "      <th>4</th>\n",
       "      <td>GENPACT India Private Limited</td>\n",
       "      <td>4.0</td>\n",
       "      <td>1mon ago</td>\n",
       "    </tr>\n",
       "    <tr>\n",
       "      <th>5</th>\n",
       "      <td>Bristlecone India Limited</td>\n",
       "      <td>3.8</td>\n",
       "      <td>19d ago</td>\n",
       "    </tr>\n",
       "    <tr>\n",
       "      <th>6</th>\n",
       "      <td>Zyoin</td>\n",
       "      <td>4.1</td>\n",
       "      <td>23d ago</td>\n",
       "    </tr>\n",
       "    <tr>\n",
       "      <th>7</th>\n",
       "      <td>Newgen Software Technologies Ltd.</td>\n",
       "      <td>3.6</td>\n",
       "      <td>25d ago</td>\n",
       "    </tr>\n",
       "    <tr>\n",
       "      <th>8</th>\n",
       "      <td>Ashkom Media India Private Limited</td>\n",
       "      <td>3.7</td>\n",
       "      <td>10d ago</td>\n",
       "    </tr>\n",
       "    <tr>\n",
       "      <th>9</th>\n",
       "      <td>Pitney Bowes India Pvt Ltd</td>\n",
       "      <td>4.2</td>\n",
       "      <td>1mon ago</td>\n",
       "    </tr>\n",
       "  </tbody>\n",
       "</table>\n",
       "</div>"
      ],
      "text/plain": [
       "                                       company_name company_rating job_posted\n",
       "0          Ericsson India Global Services Pvt. Ltd.            4.3     2d ago\n",
       "1                  EXL Services.com ( I ) Pvt. Ltd.            3.9    12d ago\n",
       "2                     GENPACT India Private Limited            4.0    24d ago\n",
       "3  TECHNIP GLOBAL BUSINESS SERVICES PRIVATE LIMITED            3.9    10d ago\n",
       "4                     GENPACT India Private Limited            4.0   1mon ago\n",
       "5                         Bristlecone India Limited            3.8    19d ago\n",
       "6                                             Zyoin            4.1    23d ago\n",
       "7                 Newgen Software Technologies Ltd.            3.6    25d ago\n",
       "8                Ashkom Media India Private Limited            3.7    10d ago\n",
       "9                        Pitney Bowes India Pvt Ltd            4.2   1mon ago"
      ]
     },
     "execution_count": 69,
     "metadata": {},
     "output_type": "execute_result"
    }
   ],
   "source": [
    "company_df"
   ]
  },
  {
   "cell_type": "markdown",
   "id": "b2bfa3ec",
   "metadata": {},
   "source": [
    "Q10: Write a python program to scrape the salary data for Data Scientist designation.\n",
    "You have to scrape Company name, Number of salaries, Average salary, Minsalary, Max Salary.\n"
   ]
  },
  {
   "cell_type": "code",
   "execution_count": 71,
   "id": "919b3bd2",
   "metadata": {},
   "outputs": [],
   "source": [
    "driver.get(\"https://www.ambitionbox.com/\")"
   ]
  },
  {
   "cell_type": "code",
   "execution_count": 72,
   "id": "f2e22932",
   "metadata": {},
   "outputs": [],
   "source": [
    "search_button=driver.find_element_by_xpath(\"/html/body/div[1]/nav/nav/a[4]\")\n",
    "search_button.click()\n"
   ]
  },
  {
   "cell_type": "code",
   "execution_count": 73,
   "id": "088bb015",
   "metadata": {},
   "outputs": [],
   "source": [
    "search_field_designation=driver.find_element_by_xpath('/html/body/div/div/div/main/section[1]/div[2]/div[1]/span/input') \n",
    "search_field_designation.send_keys(\"Data Scientist\")"
   ]
  },
  {
   "cell_type": "code",
   "execution_count": 74,
   "id": "6338e40c",
   "metadata": {},
   "outputs": [],
   "source": [
    "search_button=driver.find_element_by_xpath('//div[@class=\"suggestion_wrap tt-suggestion tt-selectable\"]//p')\n",
    "search_button.click()\n"
   ]
  },
  {
   "cell_type": "code",
   "execution_count": 75,
   "id": "659dc194",
   "metadata": {},
   "outputs": [],
   "source": [
    "#scrape data\n",
    "company_name=[] \n",
    "total_salary_record=[]\n",
    "average_salary=[]\n",
    "minimum_salary=[]\n",
    "maximum_salary=[]\n",
    "experience_required=[]\n"
   ]
  },
  {
   "cell_type": "code",
   "execution_count": 76,
   "id": "84c41d65",
   "metadata": {},
   "outputs": [],
   "source": [
    "#scrape company name\n",
    "company_tags=driver.find_elements_by_xpath('//div[@class=\"name\"]//a')"
   ]
  },
  {
   "cell_type": "code",
   "execution_count": 77,
   "id": "22804416",
   "metadata": {},
   "outputs": [],
   "source": [
    "for i in company_tags:\n",
    "    company=i.text\n",
    "    company_name.append(company)"
   ]
  },
  {
   "cell_type": "code",
   "execution_count": 78,
   "id": "5ba611b0",
   "metadata": {},
   "outputs": [],
   "source": [
    "#scrape total_salary_record\n",
    "total_salary_tags=driver.find_elements_by_xpath('//div[@class=\"name\"]//span')\n",
    "for i in total_salary_tags:\n",
    "    total_salary=i.text\n",
    "    total_salary_record.append(total_salary)\n"
   ]
  },
  {
   "cell_type": "code",
   "execution_count": 79,
   "id": "ed1e20a2",
   "metadata": {},
   "outputs": [],
   "source": [
    "#scrape average_salary\n",
    "average_tags=driver.find_elements_by_xpath('//p[@class=\"averageCtc\"]')\n",
    "for i in average_tags:\n",
    "    average=i.text\n",
    "    average_salary.append(average)\n"
   ]
  },
  {
   "cell_type": "code",
   "execution_count": 80,
   "id": "777edfcd",
   "metadata": {},
   "outputs": [],
   "source": [
    "#scarpe minimum_salary\n",
    "minimum_tags=driver.find_elements_by_xpath('//div[1][@class=\"value body-medium\"]')\n",
    "for i in  minimum_tags:\n",
    "    minimum=i.text\n",
    "    minimum_salary.append(minimum)\n",
    "\n"
   ]
  },
  {
   "cell_type": "code",
   "execution_count": 81,
   "id": "3f4ac5b9",
   "metadata": {},
   "outputs": [],
   "source": [
    "#maximum_salary\n",
    "maximum_tags=driver.find_elements_by_xpath('//div[2][@class=\"value body-medium\"]')\n",
    "for i in  maximum_tags:\n",
    "    maximum=i.text\n",
    "    maximum_salary.append(maximum)\n",
    "\n"
   ]
  },
  {
   "cell_type": "code",
   "execution_count": 82,
   "id": "82855c7e",
   "metadata": {},
   "outputs": [
    {
     "data": {
      "text/plain": [
       "(10, 10, 10, 10)"
      ]
     },
     "execution_count": 82,
     "metadata": {},
     "output_type": "execute_result"
    }
   ],
   "source": [
    "len(company_name),len(total_salary_record),len(minimum_salary),len(maximum_salary)"
   ]
  },
  {
   "cell_type": "code",
   "execution_count": 86,
   "id": "988c609d",
   "metadata": {},
   "outputs": [],
   "source": [
    "import pandas as pd\n",
    "#creating dataframe\n",
    "company_df=pd.DataFrame({\"company_name\":company_name,\"total_salary_record\":total_salary_record,\"minimum_salary\":minimum_salary,\"average_salary\":average_salary,\"maximum_salary\":maximum_salary})"
   ]
  },
  {
   "cell_type": "code",
   "execution_count": 87,
   "id": "93be2ed8",
   "metadata": {},
   "outputs": [
    {
     "data": {
      "text/html": [
       "<div>\n",
       "<style scoped>\n",
       "    .dataframe tbody tr th:only-of-type {\n",
       "        vertical-align: middle;\n",
       "    }\n",
       "\n",
       "    .dataframe tbody tr th {\n",
       "        vertical-align: top;\n",
       "    }\n",
       "\n",
       "    .dataframe thead th {\n",
       "        text-align: right;\n",
       "    }\n",
       "</style>\n",
       "<table border=\"1\" class=\"dataframe\">\n",
       "  <thead>\n",
       "    <tr style=\"text-align: right;\">\n",
       "      <th></th>\n",
       "      <th>company_name</th>\n",
       "      <th>total_salary_record</th>\n",
       "      <th>minimum_salary</th>\n",
       "      <th>average_salary</th>\n",
       "      <th>maximum_salary</th>\n",
       "    </tr>\n",
       "  </thead>\n",
       "  <tbody>\n",
       "    <tr>\n",
       "      <th>0</th>\n",
       "      <td>Walmart</td>\n",
       "      <td>based on 11 salaries</td>\n",
       "      <td>₹ 25.0L</td>\n",
       "      <td>₹ 29.7L</td>\n",
       "      <td>₹ 35.0L</td>\n",
       "    </tr>\n",
       "    <tr>\n",
       "      <th>1</th>\n",
       "      <td>Ab Inbev</td>\n",
       "      <td>based on 32 salaries</td>\n",
       "      <td>₹ 15.0L</td>\n",
       "      <td>₹ 20.5L</td>\n",
       "      <td>₹ 25.5L</td>\n",
       "    </tr>\n",
       "    <tr>\n",
       "      <th>2</th>\n",
       "      <td>Reliance Jio</td>\n",
       "      <td>based on 10 salaries</td>\n",
       "      <td>₹ 5.6L</td>\n",
       "      <td>₹ 18.9L</td>\n",
       "      <td>₹ 26.2L</td>\n",
       "    </tr>\n",
       "    <tr>\n",
       "      <th>3</th>\n",
       "      <td>ZS</td>\n",
       "      <td>based on 15 salaries</td>\n",
       "      <td>₹ 11.0L</td>\n",
       "      <td>₹ 16.7L</td>\n",
       "      <td>₹ 22.0L</td>\n",
       "    </tr>\n",
       "    <tr>\n",
       "      <th>4</th>\n",
       "      <td>Optum</td>\n",
       "      <td>based on 30 salaries</td>\n",
       "      <td>₹ 11.0L</td>\n",
       "      <td>₹ 15.9L</td>\n",
       "      <td>₹ 22.6L</td>\n",
       "    </tr>\n",
       "    <tr>\n",
       "      <th>5</th>\n",
       "      <td>Fractal Analytics</td>\n",
       "      <td>based on 82 salaries</td>\n",
       "      <td>₹ 9.7L</td>\n",
       "      <td>₹ 15.4L</td>\n",
       "      <td>₹ 23.0L</td>\n",
       "    </tr>\n",
       "    <tr>\n",
       "      <th>6</th>\n",
       "      <td>Tiger Analytics</td>\n",
       "      <td>based on 47 salaries</td>\n",
       "      <td>₹ 9.0L</td>\n",
       "      <td>₹ 14.8L</td>\n",
       "      <td>₹ 20.0L</td>\n",
       "    </tr>\n",
       "    <tr>\n",
       "      <th>7</th>\n",
       "      <td>UnitedHealth</td>\n",
       "      <td>based on 55 salaries</td>\n",
       "      <td>₹ 8.3L</td>\n",
       "      <td>₹ 13.9L</td>\n",
       "      <td>₹ 20.5L</td>\n",
       "    </tr>\n",
       "    <tr>\n",
       "      <th>8</th>\n",
       "      <td>Verizon</td>\n",
       "      <td>based on 14 salaries</td>\n",
       "      <td>₹ 10.0L</td>\n",
       "      <td>₹ 12.7L</td>\n",
       "      <td>₹ 21.0L</td>\n",
       "    </tr>\n",
       "    <tr>\n",
       "      <th>9</th>\n",
       "      <td>Ganit Business Solutions</td>\n",
       "      <td>based on 13 salaries</td>\n",
       "      <td>₹ 8.5L</td>\n",
       "      <td>₹ 12.4L</td>\n",
       "      <td>₹ 15.0L</td>\n",
       "    </tr>\n",
       "  </tbody>\n",
       "</table>\n",
       "</div>"
      ],
      "text/plain": [
       "               company_name   total_salary_record minimum_salary  \\\n",
       "0                   Walmart  based on 11 salaries        ₹ 25.0L   \n",
       "1                  Ab Inbev  based on 32 salaries        ₹ 15.0L   \n",
       "2              Reliance Jio  based on 10 salaries         ₹ 5.6L   \n",
       "3                        ZS  based on 15 salaries        ₹ 11.0L   \n",
       "4                     Optum  based on 30 salaries        ₹ 11.0L   \n",
       "5         Fractal Analytics  based on 82 salaries         ₹ 9.7L   \n",
       "6           Tiger Analytics  based on 47 salaries         ₹ 9.0L   \n",
       "7              UnitedHealth  based on 55 salaries         ₹ 8.3L   \n",
       "8                   Verizon  based on 14 salaries        ₹ 10.0L   \n",
       "9  Ganit Business Solutions  based on 13 salaries         ₹ 8.5L   \n",
       "\n",
       "  average_salary maximum_salary  \n",
       "0        ₹ 29.7L        ₹ 35.0L  \n",
       "1        ₹ 20.5L        ₹ 25.5L  \n",
       "2        ₹ 18.9L        ₹ 26.2L  \n",
       "3        ₹ 16.7L        ₹ 22.0L  \n",
       "4        ₹ 15.9L        ₹ 22.6L  \n",
       "5        ₹ 15.4L        ₹ 23.0L  \n",
       "6        ₹ 14.8L        ₹ 20.0L  \n",
       "7        ₹ 13.9L        ₹ 20.5L  \n",
       "8        ₹ 12.7L        ₹ 21.0L  \n",
       "9        ₹ 12.4L        ₹ 15.0L  "
      ]
     },
     "execution_count": 87,
     "metadata": {},
     "output_type": "execute_result"
    }
   ],
   "source": [
    "company_df"
   ]
  },
  {
   "cell_type": "code",
   "execution_count": null,
   "id": "11e542b0",
   "metadata": {},
   "outputs": [],
   "source": []
  }
 ],
 "metadata": {
  "kernelspec": {
   "display_name": "Python 3 (ipykernel)",
   "language": "python",
   "name": "python3"
  },
  "language_info": {
   "codemirror_mode": {
    "name": "ipython",
    "version": 3
   },
   "file_extension": ".py",
   "mimetype": "text/x-python",
   "name": "python",
   "nbconvert_exporter": "python",
   "pygments_lexer": "ipython3",
   "version": "3.9.7"
  }
 },
 "nbformat": 4,
 "nbformat_minor": 5
}
